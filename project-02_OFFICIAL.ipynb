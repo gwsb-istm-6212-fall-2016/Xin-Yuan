{
 "cells": [
  {
   "cell_type": "markdown",
   "metadata": {},
   "source": [
    "# Project 02 - Due Friday, November 11 at 12pm\n",
    "\n",
    "*Objectives*: Gain experience loading a transactional dataset into a relational database model you define yourself and using SQL to explore its contents. Transform the data into a star schema, documenting the schema visually, and explore the transformed data analytically by writing and executing a number of SQL queries using common syntax and functions and describing your findings.  Gain practice working on these tasks with a partner.\n",
    "\n",
    "*Grading criteria*: The tasks should all be completed, and questions should all be answered with SQL queries, diagrams, and charts in the space provided, unless a text answer is requested.  The notebook itself should be completely reproducible at datanotebook.org, from start to finish: another person should be able to use the same code to obtain the same results as yours.  Note that you will receive no more than partial credit if you do not add text/markdown cells explaining your thinking at each major step in each problem.\n",
    "\n",
    "*Attestation*: **Work in pairs**.  At the end of your submitted notebook, identify the work each partner performed and attest that each contributed substantially to the work.\n",
    "\n",
    "*Deadline*: Friday, November 11, 12pm.  One member of each pair must submit your notebook to Blackboard; you should not both submit it separately.  You may each push a copy to your own GitHub repository.\n",
    "\n",
    "\n",
    "## Setup - select and obtain data\n",
    "\n",
    "The US City Open Data Census has a variety of [transactional data from all over the country](http://us-city.census.okfn.org/).  Select one topic and one city from this Census, download the data, and explain your reason for this choice before proceeding.  Provide a link to the web page for the data set you've chosen.\n",
    "\n",
    "I strongly encourage you to select a dataset from among the following topics:  Crime, Property Assessment, Campaign Finance Contributions, Service Requests (311), and Web Analytics.\n",
    "\n",
    "By *transactional* data I mean records at the grain of one event per business process.  In the case of Service Requests (311), for example, that would require data at the level of each individual report of a service request.  If this isn't clear, think about the bike trip data - each individual ride was included - and look for data at that level of event/process specificity.  Avoid data like the Connecticut boating data, which was summarized by year, not individual transactions.\n",
    "\n",
    "Please aim for a dataset of at least 10,000 individual records, but less than 250,000 records.  A little more or a little less is okay, but try to stay within these limits."
   ]
  },
  {
   "cell_type": "markdown",
   "metadata": {},
   "source": [
    "## Problem 1 - examine the data (20 points)\n",
    "\n",
    "Use `csvstat`, `pandas`, or other tools as you see fit and observe the contents of your dataset.  Review important points from any metadata provided.  Describe what you see:  What do the columns mean?  Are there null values?  Which columns interest you the most?  Which columns present some opportunities, challenges, or questions you would like to ask?"
   ]
  },
  {
   "cell_type": "markdown",
   "metadata": {},
   "source": [
    "### 1. Use the attached link to get raw data below. \n",
    "(the data represent criminal offenses according to New York State Penal Law definition)"
   ]
  },
  {
   "cell_type": "code",
   "execution_count": 7,
   "metadata": {
    "collapsed": false
   },
   "outputs": [
    {
     "name": "stdout",
     "output_type": "stream",
     "text": [
      "--2016-11-09 15:27:08--  https://data.cityofnewyork.us/api/views/hyij-8hr7/rows.csv\n",
      "Resolving data.cityofnewyork.us (data.cityofnewyork.us)... 52.206.140.199\n",
      "Connecting to data.cityofnewyork.us (data.cityofnewyork.us)|52.206.140.199|:443... connected.\n",
      "HTTP request sent, awaiting response... 200 OK\n",
      "Length: 194111037 (185M) [text/csv]\n",
      "Saving to: ‘rows.csv’\n",
      "\n",
      "rows.csv            100%[===================>] 185.12M  7.59MB/s    in 35s     \n",
      "\n",
      "Last-modified header invalid -- time-stamp ignored.\n",
      "2016-11-09 15:27:43 (5.29 MB/s) - ‘rows.csv’ saved [194111037/194111037]\n",
      "\n"
     ]
    }
   ],
   "source": [
    "!wget https://data.cityofnewyork.us/api/views/hyij-8hr7/rows.csv"
   ]
  },
  {
   "cell_type": "markdown",
   "metadata": {},
   "source": [
    "### 2. A\"smell test\" of the rawdata \n",
    "Check the size (row numbers) and the column names of the data set"
   ]
  },
  {
   "cell_type": "code",
   "execution_count": 8,
   "metadata": {
    "collapsed": false
   },
   "outputs": [
    {
     "name": "stdout",
     "output_type": "stream",
     "text": [
      "1123466 rows.csv\r\n"
     ]
    }
   ],
   "source": [
    "!wc -l rows.csv"
   ]
  },
  {
   "cell_type": "code",
   "execution_count": 9,
   "metadata": {
    "collapsed": false
   },
   "outputs": [
    {
     "name": "stdout",
     "output_type": "stream",
     "text": [
      "  1: OBJECTID\r\n",
      "  2: Identifier\r\n",
      "  3: Occurrence Date\r\n",
      "  4: Day of Week\r\n",
      "  5: Occurrence Month\r\n",
      "  6: Occurrence Day\r\n",
      "  7: Occurrence Year\r\n",
      "  8: Occurrence Hour\r\n",
      "  9: CompStat Month\r\n",
      " 10: CompStat Day\r\n",
      " 11: CompStat Year\r\n",
      " 12: Offense\r\n",
      " 13: Offense Classification\r\n",
      " 14: Sector\r\n",
      " 15: Precinct\r\n",
      " 16: Borough\r\n",
      " 17: Jurisdiction\r\n",
      " 18: XCoordinate\r\n",
      " 19: YCoordinate\r\n",
      " 20: Location 1\r\n"
     ]
    }
   ],
   "source": [
    "!csvcut -n rows.csv"
   ]
  },
  {
   "cell_type": "markdown",
   "metadata": {},
   "source": [
    "### Ooops, something goes wrong...\n",
    "Since there are above 1 million raw data, the csv commands won't work at all.\n",
    "So we decided to choose the June and Dec part in 2015 of raw data to roughly stand for the summer months and winter and uploaded the new csv file on Github.\n",
    "Sorry but we need to get the data and do some \"smell test\" again."
   ]
  },
  {
   "cell_type": "code",
   "execution_count": 22,
   "metadata": {
    "collapsed": false
   },
   "outputs": [],
   "source": [
    "!csvgrep -c7 -m 2015 rows.csv > NYC2015crime.csv "
   ]
  },
  {
   "cell_type": "code",
   "execution_count": 23,
   "metadata": {
    "collapsed": true
   },
   "outputs": [],
   "source": [
    "!csvgrep -c5 -m 'Jun' NYC2015crime.csv > mydata.csv"
   ]
  },
  {
   "cell_type": "code",
   "execution_count": 24,
   "metadata": {
    "collapsed": false
   },
   "outputs": [],
   "source": [
    "!csvgrep -c5 -m 'Dec' NYC2015crime.csv >> mydata.csv"
   ]
  },
  {
   "cell_type": "code",
   "execution_count": 25,
   "metadata": {
    "collapsed": false
   },
   "outputs": [
    {
     "name": "stdout",
     "output_type": "stream",
     "text": [
      "16862 mydata.csv\r\n"
     ]
    }
   ],
   "source": [
    "!wc -l mydata.csv"
   ]
  },
  {
   "cell_type": "code",
   "execution_count": 3,
   "metadata": {
    "collapsed": false
   },
   "outputs": [
    {
     "name": "stdout",
     "output_type": "stream",
     "text": [
      "  1: OBJECTID\r\n",
      "  2: Identifier\r\n",
      "  3: Occurrence Date\r\n",
      "  4: Day of Week\r\n",
      "  5: Occurrence Month\r\n",
      "  6: Occurrence Day\r\n",
      "  7: Occurrence Year\r\n",
      "  8: Occurrence Hour\r\n",
      "  9: CompStat Month\r\n",
      " 10: CompStat Day\r\n",
      " 11: CompStat Year\r\n",
      " 12: Offense\r\n",
      " 13: Offense Classification\r\n",
      " 14: Sector\r\n",
      " 15: Precinct\r\n",
      " 16: Borough\r\n",
      " 17: Jurisdiction\r\n",
      " 18: XCoordinate\r\n",
      " 19: YCoordinate\r\n",
      " 20: Location 1\r\n"
     ]
    }
   ],
   "source": [
    "!csvcut -n mydata.csv"
   ]
  },
  {
   "cell_type": "code",
   "execution_count": 1,
   "metadata": {
    "collapsed": false
   },
   "outputs": [
    {
     "name": "stdout",
     "output_type": "stream",
     "text": [
      "  1. OBJECTID\n",
      "\t<class 'str'>\n",
      "\tNulls: False\n",
      "\tUnique values: 16861\n",
      "\tMax length: 8\n",
      "  2. Identifier\n",
      "\t<class 'str'>\n",
      "\tNulls: False\n",
      "\tUnique values: 16861\n",
      "\tMax length: 10\n",
      "  3. Occurrence Date\n",
      "\t<class 'str'>\n",
      "\tNulls: False\n",
      "\tUnique values: 8407\n",
      "\t5 most frequent values:\n",
      "\t\t06/01/2015 12:00:00 PM:\t23\n",
      "\t\t06/12/2015 12:00:00 PM:\t18\n",
      "\t\t06/01/2015 09:00:00 AM:\t18\n",
      "\t\t06/11/2015 12:00:00 PM:\t15\n",
      "\t\t12/11/2015 05:00:00 PM:\t14\n",
      "\tMax length: 22\n",
      "  4. Day of Week\n",
      "\t<class 'str'>\n",
      "\tNulls: False\n",
      "\tUnique values: 8\n",
      "\t5 most frequent values:\n",
      "\t\tTuesday:\t2726\n",
      "\t\tMonday:\t2555\n",
      "\t\tWednesday:\t2426\n",
      "\t\tFriday:\t2401\n",
      "\t\tThursday:\t2333\n",
      "\tMax length: 11\n",
      "  5. Occurrence Month\n",
      "\t<class 'str'>\n",
      "\tNulls: False\n",
      "\tValues: Jun, Dec, Occurrence Month\n",
      "  6. Occurrence Day\n",
      "\t<class 'str'>\n",
      "\tNulls: False\n",
      "\tUnique values: 32\n",
      "\t5 most frequent values:\n",
      "\t\t12:\t628\n",
      "\t\t18:\t625\n",
      "\t\t11:\t610\n",
      "\t\t1:\t603\n",
      "\t\t19:\t603\n",
      "\tMax length: 14\n",
      "  7. Occurrence Year\n",
      "\t<class 'str'>\n",
      "\tNulls: False\n",
      "\tValues: Occurrence Year, 2015\n",
      "  8. Occurrence Hour\n",
      "\t<class 'str'>\n",
      "\tNulls: False\n",
      "\tUnique values: 25\n",
      "\t5 most frequent values:\n",
      "\t\t17:\t976\n",
      "\t\t18:\t964\n",
      "\t\t19:\t961\n",
      "\t\t16:\t929\n",
      "\t\t15:\t914\n",
      "\tMax length: 15\n",
      "  9. CompStat Month\n",
      "\t<class 'str'>\n",
      "\tNulls: False\n",
      "\tUnique values: 8\n",
      "\t5 most frequent values:\n",
      "\t\t12:\t8233\n",
      "\t\t6:\t7753\n",
      "\t\t7:\t597\n",
      "\t\t8:\t134\n",
      "\t\t9:\t81\n",
      "\tMax length: 14\n",
      " 10. CompStat Day\n",
      "\t<class 'str'>\n",
      "\tNulls: False\n",
      "\tUnique values: 32\n",
      "\t5 most frequent values:\n",
      "\t\t15:\t632\n",
      "\t\t22:\t623\n",
      "\t\t18:\t604\n",
      "\t\t19:\t595\n",
      "\t\t30:\t594\n",
      "\tMax length: 12\n",
      " 11. CompStat Year\n",
      "\t<class 'str'>\n",
      "\tNulls: False\n",
      "\tValues: CompStat Year, 2015\n",
      " 12. Offense\n",
      "\t<class 'str'>\n",
      "\tNulls: False\n",
      "\tUnique values: 8\n",
      "\t5 most frequent values:\n",
      "\t\tGRAND LARCENY:\t6842\n",
      "\t\tFELONY ASSAULT:\t3310\n",
      "\t\tROBBERY:\t2864\n",
      "\t\tBURGLARY:\t2522\n",
      "\t\tGRAND LARCENY OF MOTOR VEHICLE:\t1082\n",
      "\tMax length: 30\n",
      " 13. Offense Classification\n",
      "\t<class 'str'>\n",
      "\tNulls: False\n",
      "\tValues: Offense Classification, FELONY\n",
      " 14. Sector\n",
      "\t<class 'str'>\n",
      "\tNulls: True\n",
      "\tUnique values: 21\n",
      "\t5 most frequent values:\n",
      "\t\tA:\t1986\n",
      "\t\tB:\t1845\n",
      "\t\tC:\t1834\n",
      "\t\tD:\t1818\n",
      "\t\tE:\t1642\n",
      "\tMax length: 6\n",
      " 15. Precinct\n",
      "\t<class 'str'>\n",
      "\tNulls: False\n",
      "\tUnique values: 78\n",
      "\t5 most frequent values:\n",
      "\t\t75:\t567\n",
      "\t\t14:\t467\n",
      "\t\t43:\t399\n",
      "\t\t18:\t397\n",
      "\t\t40:\t380\n",
      "\tMax length: 8\n",
      " 16. Borough\n",
      "\t<class 'str'>\n",
      "\tNulls: True\n",
      "\tUnique values: 6\n",
      "\t5 most frequent values:\n",
      "\t\tBROOKLYN:\t5172\n",
      "\t\tMANHATTAN:\t4349\n",
      "\t\tQUEENS:\t3476\n",
      "\t\tBRONX:\t3320\n",
      "\t\tSTATEN ISLAND:\t540\n",
      "\tMax length: 13\n",
      " 17. Jurisdiction\n",
      "\t<class 'str'>\n",
      "\tNulls: False\n",
      "\tUnique values: 14\n",
      "\t5 most frequent values:\n",
      "\t\tN.Y. POLICE DEPT:\t15470\n",
      "\t\tN.Y. HOUSING POLICE:\t819\n",
      "\t\tN.Y. TRANSIT POLICE:\t410\n",
      "\t\tPORT AUTHORITY:\t54\n",
      "\t\tDEPT OF CORRECTIONS:\t43\n",
      "\tMax length: 20\n",
      " 18. XCoordinate\n",
      "\t<class 'str'>\n",
      "\tNulls: False\n",
      "\tUnique values: 11098\n",
      "\t5 most frequent values:\n",
      "\t\t987220:\t58\n",
      "\t\t1016268:\t44\n",
      "\t\t1046315:\t30\n",
      "\t\t991531:\t25\n",
      "\t\t1020754:\t20\n",
      "\tMax length: 11\n",
      " 19. YCoordinate\n",
      "\t<class 'str'>\n",
      "\tNulls: False\n",
      "\tUnique values: 11487\n",
      "\t5 most frequent values:\n",
      "\t\t212676:\t59\n",
      "\t\t227533:\t43\n",
      "\t\t187088:\t30\n",
      "\t\t217373:\t26\n",
      "\t\t216847:\t20\n",
      "\tMax length: 11\n",
      " 20. Location 1\n",
      "\t<class 'str'>\n",
      "\tNulls: False\n",
      "\tUnique values: 12140\n",
      "\t5 most frequent values:\n",
      "\t\t(40.7504307680001, -73.989282176):\t57\n",
      "\t\t(40.7911518670001, -73.884371919):\t43\n",
      "\t\t(40.679980738, -73.7762339069999):\t30\n",
      "\t\t(40.7633203390001, -73.973717904):\t25\n",
      "\t\t(40.7582323710001, -73.977430585):\t20\n",
      "\tMax length: 37\n",
      "\n",
      "Row count: 16861\n",
      "873.91user 1.44system 16:27.60elapsed 88%CPU (0avgtext+0avgdata 50132maxresident)k\n",
      "0inputs+0outputs (0major+15491minor)pagefaults 0swaps\n"
     ]
    }
   ],
   "source": [
    "!time csvstat mydata.csv"
   ]
  },
  {
   "cell_type": "markdown",
   "metadata": {},
   "source": [
    "### Things to clarify: \n",
    "We try to run the csvcommand but we can't even when we reduce the datasize to 8000. It may happens the same when trying to run the csvstat on datanotebook.org. Since null value in columns will make some issues to the following steps, we assume in the first place that there's a possibility every column in the dataset has null values and deal with them later with SQL.\n",
    "\n",
    "### About the dataset:\n",
    "The dataset is downloaded from https://data.cityofnewyork.us/Public-Safety/NYPD-7-Major-Felony-Incidents/hyij-8hr7\n",
    "\n",
    "#### Mainidea:\n",
    "\n",
    "The whole data set is about Seven Major Felonies at the incident level, collected by NYPD. For privacy reasons, incidents have been moved to the midpoint of the street segment on which they occur. The total data volume is 1123466.\n",
    "The seven major felonies are: .......\n",
    "\n",
    "#### Description of column names:\n",
    "\n",
    "\n",
    "| Column Name | Description|\n",
    "| -----------|------------|\n",
    "|Identifier|Unique identifier for each complaint|\n",
    "|Day of Week|Text representation of day of week on which the incident occurred|\n",
    "|Occurrence Month|Three character abbreviation of month in which the incident occurred|\n",
    "|Occurrence Day|Integer representation of day of month in which the incident occurred|\n",
    "|Occurrence Year|Integer representation of year in which the incident occurred|\n",
    "|Occurrence Hour|Integer representation of time when the incident occurred; based on 24 hour clock|\n",
    "|CompStat Month|Three character abbreviation of month in which the incident was reported|\n",
    "|CompStat Day|Integer representation of day of month in which the incident was reported|\n",
    "|CompStat Year|Integer representation of year in which the incident was reported|\n",
    "|Offense|Type of offense; currently aligned with the FBIs seven major felonies. GLMV is the same as Grand Larceny of Motor Vehicle|\n",
    "|Offense Classification|Level of offense; felony, misdemeanor, violation|\n",
    "|Sector|Single character indicating patrol sector within given precinct|\n",
    "|Precinct|Three character representation of precinct in which incident occurred|\n",
    "|Borough|Text representation of borough in which incident occurred|\n",
    "|Jurisdiction|Internal jurisdiction responsible for incident (eg. NYPD, Transit or Housing)|\n",
    "|X-Coordinate|X-Coordinate for New York State Plane Coordinate System|\n",
    "|Y-Coordinate|Y-Coordinate for New York State Plane Coordinate System|\n",
    "|Location1|(Coordinate value in decimal degrees, Coordinate value in decimal degrees)|\n",
    "\n",
    "#### A List of Questions for further exploration:\n",
    "\n",
    "Given this dataset, we are interested in:\n",
    "\n",
    "1.Which time period is more likely for a crime to occur: morning, afternoon or evening? Why?\n",
    "\n",
    "2.Which season is more likely for a crime to occur: spring, summer, fall or winter? Why?\n",
    "\n",
    "3.Which weekday, from Sunday to Saturday, is more likely for a crime to occur? Why?\n",
    "\n",
    "4.Which of the above three factors is more influential in crime occurence? Are the kind of crime appear to be of same probability to happen?"
   ]
  },
  {
   "cell_type": "markdown",
   "metadata": {},
   "source": [
    "## Problem 2 - define a database model, load the data, and explore (20 points)\n",
    "\n",
    "Based on what you found above, create and connect to a new database, define a database table in it, and load this dataset into it.  You may use either of the methods for this step you have seen in earlier class notebooks.  You may choose to eliminate variables/columns if they are not relevant or interesting to you - explain your reasoning if you do.  Either way, you should load a majority of the columns present in the source dataset as it is in its raw form into the database, and all of its rows.\n",
    "\n",
    "Once your data has loaded successfully, run a `COUNT(*)` query to verify that all the data has loaded correctly.\n",
    "\n",
    "Explore the data to zero in on a few themes you would like to further study analytically.  Discuss columns that present opportunities for extraction into dimensions, and identify the specific columns that contain facts you want to measure."
   ]
  },
  {
   "cell_type": "markdown",
   "metadata": {
    "collapsed": true
   },
   "source": [
    "### 3. Creat a database and connect to it"
   ]
  },
  {
   "cell_type": "markdown",
   "metadata": {},
   "source": [
    "Create a user name called project2 and connect to it."
   ]
  },
  {
   "cell_type": "code",
   "execution_count": 1,
   "metadata": {
    "collapsed": false
   },
   "outputs": [
    {
     "name": "stdout",
     "output_type": "stream",
     "text": [
      "[sudo] password for jovyan: Restarting PostgreSQL 9.5 database server: main.\n"
     ]
    }
   ],
   "source": [
    "!echo 'redspot' | sudo -S service postgresql restart"
   ]
  },
  {
   "cell_type": "code",
   "execution_count": 2,
   "metadata": {
    "collapsed": true
   },
   "outputs": [],
   "source": [
    "!createdb -U dbuser project2"
   ]
  },
  {
   "cell_type": "code",
   "execution_count": 3,
   "metadata": {
    "collapsed": false
   },
   "outputs": [
    {
     "name": "stderr",
     "output_type": "stream",
     "text": [
      "/opt/conda/lib/python3.5/site-packages/IPython/config.py:13: ShimWarning: The `IPython.config` package has been deprecated. You should import from traitlets.config instead.\n",
      "  \"You should import from traitlets.config instead.\", ShimWarning)\n",
      "/opt/conda/lib/python3.5/site-packages/IPython/utils/traitlets.py:5: UserWarning: IPython.utils.traitlets has moved to a top-level traitlets package.\n",
      "  warn(\"IPython.utils.traitlets has moved to a top-level traitlets package.\")\n"
     ]
    }
   ],
   "source": [
    "%load_ext sql"
   ]
  },
  {
   "cell_type": "code",
   "execution_count": 4,
   "metadata": {
    "collapsed": false
   },
   "outputs": [
    {
     "data": {
      "text/plain": [
       "'Connected: dbuser@project2'"
      ]
     },
     "execution_count": 4,
     "metadata": {},
     "output_type": "execute_result"
    }
   ],
   "source": [
    "%sql postgresql://dbuser@localhost:5432/project2"
   ]
  },
  {
   "cell_type": "markdown",
   "metadata": {},
   "source": [
    "### 4. Creat a SQL table and load the data"
   ]
  },
  {
   "cell_type": "markdown",
   "metadata": {},
   "source": [
    "In the folowing steps, we create a data table called NYC2015crime and load data from NYC2015.csv into this table. To eliminate ambiguities, we delete other table called NYC2015crime before creating our new table."
   ]
  },
  {
   "cell_type": "code",
   "execution_count": 5,
   "metadata": {
    "collapsed": false
   },
   "outputs": [
    {
     "name": "stdout",
     "output_type": "stream",
     "text": [
      "Done.\n",
      "Done.\n"
     ]
    },
    {
     "data": {
      "text/plain": [
       "[]"
      ]
     },
     "execution_count": 5,
     "metadata": {},
     "output_type": "execute_result"
    }
   ],
   "source": [
    "%%sql\n",
    "DROP TABLE IF EXISTS NYC2015crime;\n",
    "CREATE TABLE NYC2015crime (\n",
    "    OBJECTID CHAR(20),\n",
    "    IDENTIFIER CHAR(9),\n",
    "    OCURRENCE_DATE VARCHAR(40),\n",
    "    DAY_OF_WEEK CHAR(10),\n",
    "    OCURRENCE_MONTH CHAR(3),\n",
    "    OCURRENCE_DAY CHAR(10),\n",
    "    OCURRENCE_YEAR CHAR(10),\n",
    "    OCURRENCE_HOUR CHAR(10),\n",
    "    COMPSTAT_MONTH CHAR(10),\n",
    "    COMPSTAT_DAY CHAR(10),\n",
    "    COMPSTAT_YEAR CHAR(10),\n",
    "    OFFENSE VARCHAR(225),\n",
    "    OFFENSE_CLASS CHAR(6),\n",
    "    SECTOR CHAR(4),\n",
    "    PRECINT CHAR(10),\n",
    "    BOROUGH VARCHAR(40),\n",
    "    JURISDICT VARCHAR(225),\n",
    "    XCOR CHAR(40),\n",
    "    YCOR CHAR(40),\n",
    "    LOCATION VARCHAR(100)\n",
    "    )"
   ]
  },
  {
   "cell_type": "code",
   "execution_count": 6,
   "metadata": {
    "collapsed": false
   },
   "outputs": [
    {
     "name": "stdout",
     "output_type": "stream",
     "text": [
      "/home/jovyan/work\r\n"
     ]
    }
   ],
   "source": [
    "!pwd"
   ]
  },
  {
   "cell_type": "code",
   "execution_count": 7,
   "metadata": {
    "collapsed": false
   },
   "outputs": [
    {
     "name": "stdout",
     "output_type": "stream",
     "text": [
      "102657 rows affected.\n"
     ]
    },
    {
     "data": {
      "text/plain": [
       "[]"
      ]
     },
     "execution_count": 7,
     "metadata": {},
     "output_type": "execute_result"
    }
   ],
   "source": [
    "%%sql\n",
    "COPY NYC2015crime FROM '/home/jovyan/work/NYC2015crime.csv'\n",
    "CSV\n",
    "HEADER\n",
    "QUOTE '\"'\n",
    "DELIMITER ','\n",
    ";"
   ]
  },
  {
   "cell_type": "code",
   "execution_count": 8,
   "metadata": {
    "collapsed": false
   },
   "outputs": [
    {
     "name": "stdout",
     "output_type": "stream",
     "text": [
      "1 rows affected.\n"
     ]
    },
    {
     "data": {
      "text/html": [
       "<table>\n",
       "    <tr>\n",
       "        <th>count</th>\n",
       "    </tr>\n",
       "    <tr>\n",
       "        <td>102657</td>\n",
       "    </tr>\n",
       "</table>"
      ],
      "text/plain": [
       "[(102657,)]"
      ]
     },
     "execution_count": 8,
     "metadata": {},
     "output_type": "execute_result"
    }
   ],
   "source": [
    "%%sql\n",
    "SELECT COUNT(*) FROM NYC2015crime"
   ]
  },
  {
   "cell_type": "markdown",
   "metadata": {},
   "source": [
    "The number of rows in our new data table -- NYC2015crime is 102657, plus a header line, this number is equal to the row number in the original datafile, NYC2015.csv, indicates that all the data has load correctly."
   ]
  },
  {
   "cell_type": "markdown",
   "metadata": {},
   "source": [
    "### 5. Identify and deal with null values"
   ]
  },
  {
   "cell_type": "code",
   "execution_count": 9,
   "metadata": {
    "collapsed": false
   },
   "outputs": [
    {
     "name": "stdout",
     "output_type": "stream",
     "text": [
      "0 rows affected.\n",
      "0 rows affected.\n",
      "0 rows affected.\n",
      "0 rows affected.\n",
      "0 rows affected.\n",
      "0 rows affected.\n",
      "0 rows affected.\n",
      "0 rows affected.\n",
      "0 rows affected.\n",
      "0 rows affected.\n",
      "0 rows affected.\n",
      "0 rows affected.\n",
      "0 rows affected.\n",
      "2047 rows affected.\n",
      "0 rows affected.\n",
      "11 rows affected.\n",
      "0 rows affected.\n",
      "0 rows affected.\n",
      "0 rows affected.\n",
      "0 rows affected.\n"
     ]
    },
    {
     "data": {
      "text/html": [
       "<table>\n",
       "    <tr>\n",
       "        <th>objectid</th>\n",
       "        <th>identifier</th>\n",
       "        <th>ocurrence_date</th>\n",
       "        <th>day_of_week</th>\n",
       "        <th>ocurrence_month</th>\n",
       "        <th>ocurrence_day</th>\n",
       "        <th>ocurrence_year</th>\n",
       "        <th>ocurrence_hour</th>\n",
       "        <th>compstat_month</th>\n",
       "        <th>compstat_day</th>\n",
       "        <th>compstat_year</th>\n",
       "        <th>offense</th>\n",
       "        <th>offense_class</th>\n",
       "        <th>sector</th>\n",
       "        <th>precint</th>\n",
       "        <th>borough</th>\n",
       "        <th>jurisdict</th>\n",
       "        <th>xcor</th>\n",
       "        <th>ycor</th>\n",
       "        <th>location</th>\n",
       "    </tr>\n",
       "</table>"
      ],
      "text/plain": [
       "[]"
      ]
     },
     "execution_count": 9,
     "metadata": {},
     "output_type": "execute_result"
    }
   ],
   "source": [
    "%%sql\n",
    "SELECT * FROM NYC2015crime WHERE OBJECTID IS NULL OR OBJECTID = '';\n",
    "SELECT * FROM NYC2015crime WHERE IDENTIFIER IS NULL OR IDENTIFIER = '';\n",
    "SELECT * FROM NYC2015crime WHERE OCURRENCE_DATE IS NULL OR OCURRENCE_DATE = '';\n",
    "SELECT * FROM NYC2015crime WHERE DAY_OF_WEEK IS NULL OR DAY_OF_WEEK = '';\n",
    "SELECT * FROM NYC2015crime WHERE OCURRENCE_MONTH IS NULL OR OCURRENCE_MONTH = '';\n",
    "SELECT * FROM NYC2015crime WHERE OCURRENCE_DAY IS NULL OR OCURRENCE_DAY = '';\n",
    "SELECT * FROM NYC2015crime WHERE OCURRENCE_YEAR IS NULL OR OCURRENCE_YEAR = '';\n",
    "SELECT * FROM NYC2015crime WHERE OCURRENCE_HOUR IS NULL OR OCURRENCE_HOUR = '';\n",
    "SELECT * FROM NYC2015crime WHERE COMPSTAT_MONTH IS NULL OR COMPSTAT_MONTH = '';\n",
    "SELECT * FROM NYC2015crime WHERE COMPSTAT_DAY IS NULL OR COMPSTAT_DAY = '';\n",
    "SELECT * FROM NYC2015crime WHERE COMPSTAT_YEAR IS NULL OR COMPSTAT_YEAR = '';\n",
    "SELECT * FROM NYC2015crime WHERE OFFENSE IS NULL OR OFFENSE = '';\n",
    "SELECT * FROM NYC2015crime WHERE OFFENSE_CLASS IS NULL OR OFFENSE_CLASS = '';\n",
    "SELECT * FROM NYC2015crime WHERE SECTOR IS NULL OR SECTOR = '';\n",
    "SELECT * FROM NYC2015crime WHERE PRECINT IS NULL OR PRECINT = '';\n",
    "SELECT * FROM NYC2015crime WHERE BOROUGH IS NULL OR BOROUGH = '';\n",
    "SELECT * FROM NYC2015crime WHERE JURISDICT IS NULL OR JURISDICT = '';\n",
    "SELECT * FROM NYC2015crime WHERE XCOR IS NULL OR XCOR = '';\n",
    "SELECT * FROM NYC2015crime WHERE YCOR IS NULL OR YCOR = '';\n",
    "SELECT * FROM NYC2015crime WHERE LOCATION IS NULL OR LOCATION = '';"
   ]
  },
  {
   "cell_type": "markdown",
   "metadata": {},
   "source": [
    "We can see from the above result that columns: borough and sector contain NULL values, so we have to eliminate them before building the star schema."
   ]
  },
  {
   "cell_type": "code",
   "execution_count": 10,
   "metadata": {
    "collapsed": false
   },
   "outputs": [
    {
     "name": "stdout",
     "output_type": "stream",
     "text": [
      "11 rows affected.\n",
      "2047 rows affected.\n"
     ]
    },
    {
     "data": {
      "text/plain": [
       "[]"
      ]
     },
     "execution_count": 10,
     "metadata": {},
     "output_type": "execute_result"
    }
   ],
   "source": [
    "%%sql\n",
    "DELETE FROM NYC2015crime \n",
    "WHERE BOROUGH IS NULL \n",
    "OR BOROUGH = '';\n",
    "\n",
    "DELETE FROM NYC2015crime \n",
    "WHERE SECTOR IS NULL \n",
    "OR SECTOR = '';"
   ]
  },
  {
   "cell_type": "markdown",
   "metadata": {},
   "source": [
    "### 6. Some further exploration and preparation"
   ]
  },
  {
   "cell_type": "markdown",
   "metadata": {},
   "source": [
    "Since we are interested in how number of crime will vary with seasons, we add a new column in the data table called \"season\", and define the value of it using original column: OCURRENCE_MONTH."
   ]
  },
  {
   "cell_type": "code",
   "execution_count": 11,
   "metadata": {
    "collapsed": false
   },
   "outputs": [
    {
     "name": "stdout",
     "output_type": "stream",
     "text": [
      "Done.\n"
     ]
    },
    {
     "data": {
      "text/plain": [
       "[]"
      ]
     },
     "execution_count": 11,
     "metadata": {},
     "output_type": "execute_result"
    }
   ],
   "source": [
    "%%sql\n",
    "ALTER TABLE NYC2015crime\n",
    "    ADD season CHAR(10);"
   ]
  },
  {
   "cell_type": "code",
   "execution_count": 12,
   "metadata": {
    "collapsed": false
   },
   "outputs": [
    {
     "name": "stdout",
     "output_type": "stream",
     "text": [
      "100599 rows affected.\n"
     ]
    },
    {
     "data": {
      "text/plain": [
       "[]"
      ]
     },
     "execution_count": 12,
     "metadata": {},
     "output_type": "execute_result"
    }
   ],
   "source": [
    "%%sql\n",
    "UPDATE NYC2015crime SET \n",
    "season =\n",
    "    CASE \n",
    "     WHEN OCURRENCE_MONTH IN ('Mar','Apr','May') then 'Spring'\n",
    "     WHEN OCURRENCE_MONTH IN ('Jun','Jul','Aug') then 'Summer'   \n",
    "     WHEN OCURRENCE_MONTH IN ('Sep','Oct','Nov') then 'Fall'\n",
    "     WHEN OCURRENCE_MONTH IN ('Dec','Jan','Feb') then 'Winter'\n",
    "        else NULL end;"
   ]
  },
  {
   "cell_type": "markdown",
   "metadata": {},
   "source": [
    "We are also interested in whether number of crimes will vary over different time period in one day, we add a new column called \"time\", and define the value of it using the original column: OCURRENCE_HOUR."
   ]
  },
  {
   "cell_type": "code",
   "execution_count": 13,
   "metadata": {
    "collapsed": false
   },
   "outputs": [
    {
     "name": "stdout",
     "output_type": "stream",
     "text": [
      "Done.\n"
     ]
    },
    {
     "data": {
      "text/plain": [
       "[]"
      ]
     },
     "execution_count": 13,
     "metadata": {},
     "output_type": "execute_result"
    }
   ],
   "source": [
    "%%sql\n",
    "ALTER TABLE NYC2015crime\n",
    "    ADD time CHAR(10);"
   ]
  },
  {
   "cell_type": "code",
   "execution_count": 14,
   "metadata": {
    "collapsed": false
   },
   "outputs": [
    {
     "name": "stdout",
     "output_type": "stream",
     "text": [
      "100599 rows affected.\n"
     ]
    },
    {
     "data": {
      "text/plain": [
       "[]"
      ]
     },
     "execution_count": 14,
     "metadata": {},
     "output_type": "execute_result"
    }
   ],
   "source": [
    "%%sql\n",
    "UPDATE NYC2015crime SET \n",
    "time =\n",
    "    CASE \n",
    "     WHEN OCURRENCE_HOUR IN ('6','7','8','9','10','11','12','13') then 'Morning'\n",
    "     WHEN OCURRENCE_HOUR IN ('14','15','16','17','18','19','20','21') then 'Afternoon'   \n",
    "     WHEN OCURRENCE_HOUR IN ('22','23','0','1','2','3','4','5') then 'Evening'\n",
    "        else NULL end;"
   ]
  },
  {
   "cell_type": "markdown",
   "metadata": {},
   "source": [
    "The following code is to verify whether we have inserted the new column correctly."
   ]
  },
  {
   "cell_type": "code",
   "execution_count": 15,
   "metadata": {
    "collapsed": false
   },
   "outputs": [
    {
     "name": "stdout",
     "output_type": "stream",
     "text": [
      "10 rows affected.\n"
     ]
    },
    {
     "data": {
      "text/html": [
       "<table>\n",
       "    <tr>\n",
       "        <th>objectid</th>\n",
       "        <th>identifier</th>\n",
       "        <th>ocurrence_date</th>\n",
       "        <th>day_of_week</th>\n",
       "        <th>ocurrence_month</th>\n",
       "        <th>ocurrence_day</th>\n",
       "        <th>ocurrence_year</th>\n",
       "        <th>ocurrence_hour</th>\n",
       "        <th>compstat_month</th>\n",
       "        <th>compstat_day</th>\n",
       "        <th>compstat_year</th>\n",
       "        <th>offense</th>\n",
       "        <th>offense_class</th>\n",
       "        <th>sector</th>\n",
       "        <th>precint</th>\n",
       "        <th>borough</th>\n",
       "        <th>jurisdict</th>\n",
       "        <th>xcor</th>\n",
       "        <th>ycor</th>\n",
       "        <th>location</th>\n",
       "        <th>season</th>\n",
       "        <th>time</th>\n",
       "    </tr>\n",
       "    <tr>\n",
       "        <td>714273              </td>\n",
       "        <td>54f62b78 </td>\n",
       "        <td>02/13/2015 07:30:00 AM</td>\n",
       "        <td>Friday    </td>\n",
       "        <td>Feb</td>\n",
       "        <td>13        </td>\n",
       "        <td>2015      </td>\n",
       "        <td>7         </td>\n",
       "        <td>3         </td>\n",
       "        <td>3         </td>\n",
       "        <td>2015      </td>\n",
       "        <td>RAPE</td>\n",
       "        <td>FELONY</td>\n",
       "        <td>B   </td>\n",
       "        <td>34        </td>\n",
       "        <td>MANHATTAN</td>\n",
       "        <td>N.Y. POLICE DEPT</td>\n",
       "        <td>1002106                                 </td>\n",
       "        <td>249501                                  </td>\n",
       "        <td>(40.8514877740001, -73.9354579669999)</td>\n",
       "        <td>Winter    </td>\n",
       "        <td>Morning   </td>\n",
       "    </tr>\n",
       "    <tr>\n",
       "        <td>714920              </td>\n",
       "        <td>82a279d7 </td>\n",
       "        <td>02/13/2015 12:40:00 PM</td>\n",
       "        <td>Friday    </td>\n",
       "        <td>Feb</td>\n",
       "        <td>13        </td>\n",
       "        <td>2015      </td>\n",
       "        <td>12        </td>\n",
       "        <td>2         </td>\n",
       "        <td>13        </td>\n",
       "        <td>2015      </td>\n",
       "        <td>FELONY ASSAULT</td>\n",
       "        <td>FELONY</td>\n",
       "        <td>D   </td>\n",
       "        <td>19        </td>\n",
       "        <td>MANHATTAN</td>\n",
       "        <td>N.Y. POLICE DEPT</td>\n",
       "        <td>997162                                  </td>\n",
       "        <td>223853                                  </td>\n",
       "        <td>(40.7810998160001, -73.9533782139999)</td>\n",
       "        <td>Winter    </td>\n",
       "        <td>Morning   </td>\n",
       "    </tr>\n",
       "    <tr>\n",
       "        <td>715546              </td>\n",
       "        <td>ce956407 </td>\n",
       "        <td>02/13/2015 02:00:00 PM</td>\n",
       "        <td>Friday    </td>\n",
       "        <td>Feb</td>\n",
       "        <td>13        </td>\n",
       "        <td>2015      </td>\n",
       "        <td>14        </td>\n",
       "        <td>2         </td>\n",
       "        <td>13        </td>\n",
       "        <td>2015      </td>\n",
       "        <td>BURGLARY</td>\n",
       "        <td>FELONY</td>\n",
       "        <td>C   </td>\n",
       "        <td>102       </td>\n",
       "        <td>QUEENS</td>\n",
       "        <td>N.Y. POLICE DEPT</td>\n",
       "        <td>1028241                                 </td>\n",
       "        <td>192139                                  </td>\n",
       "        <td>(40.6939528280001, -73.841364287)</td>\n",
       "        <td>Winter    </td>\n",
       "        <td>Afternoon </td>\n",
       "    </tr>\n",
       "    <tr>\n",
       "        <td>715868              </td>\n",
       "        <td>8a0c4bb8 </td>\n",
       "        <td>02/13/2015 03:20:00 PM</td>\n",
       "        <td>Friday    </td>\n",
       "        <td>Feb</td>\n",
       "        <td>13        </td>\n",
       "        <td>2015      </td>\n",
       "        <td>15        </td>\n",
       "        <td>2         </td>\n",
       "        <td>13        </td>\n",
       "        <td>2015      </td>\n",
       "        <td>GRAND LARCENY</td>\n",
       "        <td>FELONY</td>\n",
       "        <td>F   </td>\n",
       "        <td>84        </td>\n",
       "        <td>BROOKLYN</td>\n",
       "        <td>N.Y. POLICE DEPT</td>\n",
       "        <td>988175                                  </td>\n",
       "        <td>190975                                  </td>\n",
       "        <td>(40.690866375, -73.9858480569999)</td>\n",
       "        <td>Winter    </td>\n",
       "        <td>Afternoon </td>\n",
       "    </tr>\n",
       "    <tr>\n",
       "        <td>718126              </td>\n",
       "        <td>4daede75 </td>\n",
       "        <td>02/15/2015 12:25:00 AM</td>\n",
       "        <td>Sunday    </td>\n",
       "        <td>Feb</td>\n",
       "        <td>15        </td>\n",
       "        <td>2015      </td>\n",
       "        <td>0         </td>\n",
       "        <td>2         </td>\n",
       "        <td>15        </td>\n",
       "        <td>2015      </td>\n",
       "        <td>ROBBERY</td>\n",
       "        <td>FELONY</td>\n",
       "        <td>M   </td>\n",
       "        <td>19        </td>\n",
       "        <td>MANHATTAN</td>\n",
       "        <td>N.Y. POLICE DEPT</td>\n",
       "        <td>998837                                  </td>\n",
       "        <td>224878                                  </td>\n",
       "        <td>(40.7839105640001, -73.947327824)</td>\n",
       "        <td>Winter    </td>\n",
       "        <td>Evening   </td>\n",
       "    </tr>\n",
       "    <tr>\n",
       "        <td>719097              </td>\n",
       "        <td>db595558 </td>\n",
       "        <td>02/15/2015 05:15:00 AM</td>\n",
       "        <td>Sunday    </td>\n",
       "        <td>Feb</td>\n",
       "        <td>15        </td>\n",
       "        <td>2015      </td>\n",
       "        <td>5         </td>\n",
       "        <td>2         </td>\n",
       "        <td>15        </td>\n",
       "        <td>2015      </td>\n",
       "        <td>FELONY ASSAULT</td>\n",
       "        <td>FELONY</td>\n",
       "        <td>G   </td>\n",
       "        <td>42        </td>\n",
       "        <td>BRONX</td>\n",
       "        <td>N.Y. HOUSING POLICE</td>\n",
       "        <td>1009394                                 </td>\n",
       "        <td>242828                                  </td>\n",
       "        <td>(40.8331545990001, -73.9091393109999)</td>\n",
       "        <td>Winter    </td>\n",
       "        <td>Evening   </td>\n",
       "    </tr>\n",
       "    <tr>\n",
       "        <td>721024              </td>\n",
       "        <td>2f733b4b </td>\n",
       "        <td>02/15/2015 10:00:00 PM</td>\n",
       "        <td>Sunday    </td>\n",
       "        <td>Feb</td>\n",
       "        <td>15        </td>\n",
       "        <td>2015      </td>\n",
       "        <td>22        </td>\n",
       "        <td>2         </td>\n",
       "        <td>15        </td>\n",
       "        <td>2015      </td>\n",
       "        <td>ROBBERY</td>\n",
       "        <td>FELONY</td>\n",
       "        <td>C   </td>\n",
       "        <td>71        </td>\n",
       "        <td>BROOKLYN</td>\n",
       "        <td>N.Y. POLICE DEPT</td>\n",
       "        <td>995675                                  </td>\n",
       "        <td>180124                                  </td>\n",
       "        <td>(40.6610763210001, -73.958821762)</td>\n",
       "        <td>Winter    </td>\n",
       "        <td>Evening   </td>\n",
       "    </tr>\n",
       "    <tr>\n",
       "        <td>721025              </td>\n",
       "        <td>7493f2f4 </td>\n",
       "        <td>02/15/2015 10:00:00 PM</td>\n",
       "        <td>Sunday    </td>\n",
       "        <td>Feb</td>\n",
       "        <td>15        </td>\n",
       "        <td>2015      </td>\n",
       "        <td>22        </td>\n",
       "        <td>2         </td>\n",
       "        <td>19        </td>\n",
       "        <td>2015      </td>\n",
       "        <td>GRAND LARCENY OF MOTOR VEHICLE</td>\n",
       "        <td>FELONY</td>\n",
       "        <td>I   </td>\n",
       "        <td>75        </td>\n",
       "        <td>BROOKLYN</td>\n",
       "        <td>N.Y. POLICE DEPT</td>\n",
       "        <td>1022154                                 </td>\n",
       "        <td>184001                                  </td>\n",
       "        <td>(40.671644058, -73.863360523)</td>\n",
       "        <td>Winter    </td>\n",
       "        <td>Evening   </td>\n",
       "    </tr>\n",
       "    <tr>\n",
       "        <td>721346              </td>\n",
       "        <td>96517d23 </td>\n",
       "        <td>04/16/2015 12:50:00 AM</td>\n",
       "        <td>Thursday  </td>\n",
       "        <td>Apr</td>\n",
       "        <td>16        </td>\n",
       "        <td>2015      </td>\n",
       "        <td>0         </td>\n",
       "        <td>4         </td>\n",
       "        <td>16        </td>\n",
       "        <td>2015      </td>\n",
       "        <td>ROBBERY</td>\n",
       "        <td>FELONY</td>\n",
       "        <td>H   </td>\n",
       "        <td>72        </td>\n",
       "        <td>BROOKLYN</td>\n",
       "        <td>N.Y. POLICE DEPT</td>\n",
       "        <td>983562                                  </td>\n",
       "        <td>173911                                  </td>\n",
       "        <td>(40.644030329, -74.0024806)</td>\n",
       "        <td>Spring    </td>\n",
       "        <td>Evening   </td>\n",
       "    </tr>\n",
       "    <tr>\n",
       "        <td>722000              </td>\n",
       "        <td>9bc5eee2 </td>\n",
       "        <td>04/16/2015 08:30:00 AM</td>\n",
       "        <td>Thursday  </td>\n",
       "        <td>Apr</td>\n",
       "        <td>16        </td>\n",
       "        <td>2015      </td>\n",
       "        <td>8         </td>\n",
       "        <td>4         </td>\n",
       "        <td>16        </td>\n",
       "        <td>2015      </td>\n",
       "        <td>BURGLARY</td>\n",
       "        <td>FELONY</td>\n",
       "        <td>G   </td>\n",
       "        <td>68        </td>\n",
       "        <td>BROOKLYN</td>\n",
       "        <td>N.Y. POLICE DEPT</td>\n",
       "        <td>973049                                  </td>\n",
       "        <td>165604                                  </td>\n",
       "        <td>(40.6212223140001, -74.040349642)</td>\n",
       "        <td>Spring    </td>\n",
       "        <td>Morning   </td>\n",
       "    </tr>\n",
       "</table>"
      ],
      "text/plain": [
       "[('714273              ', '54f62b78 ', '02/13/2015 07:30:00 AM', 'Friday    ', 'Feb', '13        ', '2015      ', '7         ', '3         ', '3         ', '2015      ', 'RAPE', 'FELONY', 'B   ', '34        ', 'MANHATTAN', 'N.Y. POLICE DEPT', '1002106                                 ', '249501                                  ', '(40.8514877740001, -73.9354579669999)', 'Winter    ', 'Morning   '),\n",
       " ('714920              ', '82a279d7 ', '02/13/2015 12:40:00 PM', 'Friday    ', 'Feb', '13        ', '2015      ', '12        ', '2         ', '13        ', '2015      ', 'FELONY ASSAULT', 'FELONY', 'D   ', '19        ', 'MANHATTAN', 'N.Y. POLICE DEPT', '997162                                  ', '223853                                  ', '(40.7810998160001, -73.9533782139999)', 'Winter    ', 'Morning   '),\n",
       " ('715546              ', 'ce956407 ', '02/13/2015 02:00:00 PM', 'Friday    ', 'Feb', '13        ', '2015      ', '14        ', '2         ', '13        ', '2015      ', 'BURGLARY', 'FELONY', 'C   ', '102       ', 'QUEENS', 'N.Y. POLICE DEPT', '1028241                                 ', '192139                                  ', '(40.6939528280001, -73.841364287)', 'Winter    ', 'Afternoon '),\n",
       " ('715868              ', '8a0c4bb8 ', '02/13/2015 03:20:00 PM', 'Friday    ', 'Feb', '13        ', '2015      ', '15        ', '2         ', '13        ', '2015      ', 'GRAND LARCENY', 'FELONY', 'F   ', '84        ', 'BROOKLYN', 'N.Y. POLICE DEPT', '988175                                  ', '190975                                  ', '(40.690866375, -73.9858480569999)', 'Winter    ', 'Afternoon '),\n",
       " ('718126              ', '4daede75 ', '02/15/2015 12:25:00 AM', 'Sunday    ', 'Feb', '15        ', '2015      ', '0         ', '2         ', '15        ', '2015      ', 'ROBBERY', 'FELONY', 'M   ', '19        ', 'MANHATTAN', 'N.Y. POLICE DEPT', '998837                                  ', '224878                                  ', '(40.7839105640001, -73.947327824)', 'Winter    ', 'Evening   '),\n",
       " ('719097              ', 'db595558 ', '02/15/2015 05:15:00 AM', 'Sunday    ', 'Feb', '15        ', '2015      ', '5         ', '2         ', '15        ', '2015      ', 'FELONY ASSAULT', 'FELONY', 'G   ', '42        ', 'BRONX', 'N.Y. HOUSING POLICE', '1009394                                 ', '242828                                  ', '(40.8331545990001, -73.9091393109999)', 'Winter    ', 'Evening   '),\n",
       " ('721024              ', '2f733b4b ', '02/15/2015 10:00:00 PM', 'Sunday    ', 'Feb', '15        ', '2015      ', '22        ', '2         ', '15        ', '2015      ', 'ROBBERY', 'FELONY', 'C   ', '71        ', 'BROOKLYN', 'N.Y. POLICE DEPT', '995675                                  ', '180124                                  ', '(40.6610763210001, -73.958821762)', 'Winter    ', 'Evening   '),\n",
       " ('721025              ', '7493f2f4 ', '02/15/2015 10:00:00 PM', 'Sunday    ', 'Feb', '15        ', '2015      ', '22        ', '2         ', '19        ', '2015      ', 'GRAND LARCENY OF MOTOR VEHICLE', 'FELONY', 'I   ', '75        ', 'BROOKLYN', 'N.Y. POLICE DEPT', '1022154                                 ', '184001                                  ', '(40.671644058, -73.863360523)', 'Winter    ', 'Evening   '),\n",
       " ('721346              ', '96517d23 ', '04/16/2015 12:50:00 AM', 'Thursday  ', 'Apr', '16        ', '2015      ', '0         ', '4         ', '16        ', '2015      ', 'ROBBERY', 'FELONY', 'H   ', '72        ', 'BROOKLYN', 'N.Y. POLICE DEPT', '983562                                  ', '173911                                  ', '(40.644030329, -74.0024806)', 'Spring    ', 'Evening   '),\n",
       " ('722000              ', '9bc5eee2 ', '04/16/2015 08:30:00 AM', 'Thursday  ', 'Apr', '16        ', '2015      ', '8         ', '4         ', '16        ', '2015      ', 'BURGLARY', 'FELONY', 'G   ', '68        ', 'BROOKLYN', 'N.Y. POLICE DEPT', '973049                                  ', '165604                                  ', '(40.6212223140001, -74.040349642)', 'Spring    ', 'Morning   ')]"
      ]
     },
     "execution_count": 15,
     "metadata": {},
     "output_type": "execute_result"
    }
   ],
   "source": [
    "%%sql\n",
    "SELECT * FROM NYC2015crime \n",
    "LIMIT 10;"
   ]
  },
  {
   "cell_type": "markdown",
   "metadata": {},
   "source": [
    "## Problem 3 - define a star schema, and load your data into it (30 points)\n",
    "\n",
    "Define a star schema consisting of at least one fact table and at least two dimensions.  Transform your source data into the new fact table and dimensions.  Discuss your key modeling decisions.\n",
    "\n",
    "Document your star schema with a diagram.  There several tools available for this, such as Google Docs and Microsoft Visio."
   ]
  },
  {
   "cell_type": "markdown",
   "metadata": {},
   "source": [
    "### Import the general picture of star schema"
   ]
  },
  {
   "cell_type": "code",
   "execution_count": 8,
   "metadata": {
    "collapsed": true
   },
   "outputs": [],
   "source": [
    "from IPython.display import Image\n",
    "PATH = \"/home/xinyuan/Downloads/\""
   ]
  },
  {
   "cell_type": "code",
   "execution_count": 9,
   "metadata": {
    "collapsed": false
   },
   "outputs": [
    {
     "data": {
      "image/png": "[encoded data removed]",
      "text/plain": [
       "<IPython.core.display.Image object>"
      ]
     },
     "execution_count": 9,
     "metadata": {},
     "output_type": "execute_result"
    }
   ],
   "source": [
    "Image(filename = PATH + \"star_schema.png\")"
   ]
  },
  {
   "cell_type": "markdown",
   "metadata": {},
   "source": [
    "### 7. Create dimension tables of star schema"
   ]
  },
  {
   "cell_type": "markdown",
   "metadata": {
    "collapsed": true
   },
   "source": [
    "#### The following commands create the Crime Archive Dimension Table"
   ]
  },
  {
   "cell_type": "code",
   "execution_count": 16,
   "metadata": {
    "collapsed": false
   },
   "outputs": [
    {
     "name": "stdout",
     "output_type": "stream",
     "text": [
      "Done.\n",
      "Done.\n"
     ]
    },
    {
     "data": {
      "text/plain": [
       "[]"
      ]
     },
     "execution_count": 16,
     "metadata": {},
     "output_type": "execute_result"
    }
   ],
   "source": [
    "%%sql\n",
    "DROP TABLE IF EXISTS crime_archive_dimension;\n",
    "CREATE TABLE crime_archive_dimension (\n",
    "  arch_id VARCHAR(27) PRIMARY KEY,\n",
    "  occur_date VARCHAR(40),\n",
    "  jurisdiction CHAR(225)  \n",
    ");"
   ]
  },
  {
   "cell_type": "code",
   "execution_count": 17,
   "metadata": {
    "collapsed": false
   },
   "outputs": [
    {
     "name": "stdout",
     "output_type": "stream",
     "text": [
      "100599 rows affected.\n"
     ]
    },
    {
     "data": {
      "text/plain": [
       "[]"
      ]
     },
     "execution_count": 17,
     "metadata": {},
     "output_type": "execute_result"
    }
   ],
   "source": [
    "%%sql\n",
    "INSERT INTO crime_archive_dimension (arch_id, occur_date, jurisdiction)\n",
    "SELECT IDENTIFIER, OCURRENCE_DATE, JURISDICT \n",
    "FROM NYC2015crime;"
   ]
  },
  {
   "cell_type": "code",
   "execution_count": 18,
   "metadata": {
    "collapsed": false
   },
   "outputs": [
    {
     "name": "stdout",
     "output_type": "stream",
     "text": [
      "10 rows affected.\n"
     ]
    },
    {
     "data": {
      "text/html": [
       "<table>\n",
       "    <tr>\n",
       "        <th>arch_id</th>\n",
       "        <th>occur_date</th>\n",
       "        <th>jurisdiction</th>\n",
       "    </tr>\n",
       "    <tr>\n",
       "        <td>2f733b4b</td>\n",
       "        <td>02/15/2015 10:00:00 PM</td>\n",
       "        <td>N.Y. POLICE DEPT                                                                                                                                                                                                                 </td>\n",
       "    </tr>\n",
       "    <tr>\n",
       "        <td>7493f2f4</td>\n",
       "        <td>02/15/2015 10:00:00 PM</td>\n",
       "        <td>N.Y. POLICE DEPT                                                                                                                                                                                                                 </td>\n",
       "    </tr>\n",
       "    <tr>\n",
       "        <td>96517d23</td>\n",
       "        <td>04/16/2015 12:50:00 AM</td>\n",
       "        <td>N.Y. POLICE DEPT                                                                                                                                                                                                                 </td>\n",
       "    </tr>\n",
       "    <tr>\n",
       "        <td>9bc5eee2</td>\n",
       "        <td>04/16/2015 08:30:00 AM</td>\n",
       "        <td>N.Y. POLICE DEPT                                                                                                                                                                                                                 </td>\n",
       "    </tr>\n",
       "    <tr>\n",
       "        <td>23462b44</td>\n",
       "        <td>04/16/2015 10:50:00 AM</td>\n",
       "        <td>N.Y. POLICE DEPT                                                                                                                                                                                                                 </td>\n",
       "    </tr>\n",
       "    <tr>\n",
       "        <td>41663dcb</td>\n",
       "        <td>04/16/2015 02:30:00 PM</td>\n",
       "        <td>N.Y. POLICE DEPT                                                                                                                                                                                                                 </td>\n",
       "    </tr>\n",
       "    <tr>\n",
       "        <td>5922e1e9</td>\n",
       "        <td>04/16/2015 02:35:00 PM</td>\n",
       "        <td>N.Y. POLICE DEPT                                                                                                                                                                                                                 </td>\n",
       "    </tr>\n",
       "    <tr>\n",
       "        <td>f6f8cd7d</td>\n",
       "        <td>04/16/2015 02:40:00 PM</td>\n",
       "        <td>N.Y. POLICE DEPT                                                                                                                                                                                                                 </td>\n",
       "    </tr>\n",
       "    <tr>\n",
       "        <td>b0cfbac1</td>\n",
       "        <td>05/22/2015 11:10:00 AM</td>\n",
       "        <td>N.Y. POLICE DEPT                                                                                                                                                                                                                 </td>\n",
       "    </tr>\n",
       "    <tr>\n",
       "        <td>fc3f9f92</td>\n",
       "        <td>05/22/2015 02:20:00 PM</td>\n",
       "        <td>N.Y. HOUSING POLICE                                                                                                                                                                                                              </td>\n",
       "    </tr>\n",
       "</table>"
      ],
      "text/plain": [
       "[('2f733b4b', '02/15/2015 10:00:00 PM', 'N.Y. POLICE DEPT                                                                                                                                                                                                                 '),\n",
       " ('7493f2f4', '02/15/2015 10:00:00 PM', 'N.Y. POLICE DEPT                                                                                                                                                                                                                 '),\n",
       " ('96517d23', '04/16/2015 12:50:00 AM', 'N.Y. POLICE DEPT                                                                                                                                                                                                                 '),\n",
       " ('9bc5eee2', '04/16/2015 08:30:00 AM', 'N.Y. POLICE DEPT                                                                                                                                                                                                                 '),\n",
       " ('23462b44', '04/16/2015 10:50:00 AM', 'N.Y. POLICE DEPT                                                                                                                                                                                                                 '),\n",
       " ('41663dcb', '04/16/2015 02:30:00 PM', 'N.Y. POLICE DEPT                                                                                                                                                                                                                 '),\n",
       " ('5922e1e9', '04/16/2015 02:35:00 PM', 'N.Y. POLICE DEPT                                                                                                                                                                                                                 '),\n",
       " ('f6f8cd7d', '04/16/2015 02:40:00 PM', 'N.Y. POLICE DEPT                                                                                                                                                                                                                 '),\n",
       " ('b0cfbac1', '05/22/2015 11:10:00 AM', 'N.Y. POLICE DEPT                                                                                                                                                                                                                 '),\n",
       " ('fc3f9f92', '05/22/2015 02:20:00 PM', 'N.Y. HOUSING POLICE                                                                                                                                                                                                              ')]"
      ]
     },
     "execution_count": 18,
     "metadata": {},
     "output_type": "execute_result"
    }
   ],
   "source": [
    "%%sql\n",
    "SELECT * FROM crime_archive_dimension\n",
    "LIMIT 10;"
   ]
  },
  {
   "cell_type": "markdown",
   "metadata": {
    "collapsed": true
   },
   "source": [
    "#### The following commands create the Crime Time Dimension Table"
   ]
  },
  {
   "cell_type": "code",
   "execution_count": 19,
   "metadata": {
    "collapsed": false
   },
   "outputs": [
    {
     "name": "stdout",
     "output_type": "stream",
     "text": [
      "Done.\n",
      "Done.\n"
     ]
    },
    {
     "data": {
      "text/plain": [
       "[]"
      ]
     },
     "execution_count": 19,
     "metadata": {},
     "output_type": "execute_result"
    }
   ],
   "source": [
    "%%sql\n",
    "DROP TABLE IF EXISTS crime_time_dimension;\n",
    "CREATE TABLE crime_time_dimension (\n",
    "  crime_time_id SERIAL PRIMARY KEY,\n",
    "  crime_occur_weekday CHAR(10),\n",
    "  crime_occur_month CHAR(3),\n",
    "  crime_occur_day CHAR(10),\n",
    "  crime_occur_year CHAR(10),\n",
    "  crime_occur_hour CHAR(10),\n",
    "  crime_occur_timeslot CHAR(10),\n",
    "  crime_occur_season CHAR(6)  \n",
    ");"
   ]
  },
  {
   "cell_type": "code",
   "execution_count": 20,
   "metadata": {
    "collapsed": false
   },
   "outputs": [
    {
     "name": "stdout",
     "output_type": "stream",
     "text": [
      "100599 rows affected.\n"
     ]
    },
    {
     "data": {
      "text/plain": [
       "[]"
      ]
     },
     "execution_count": 20,
     "metadata": {},
     "output_type": "execute_result"
    }
   ],
   "source": [
    "%%sql\n",
    "INSERT INTO crime_time_dimension (\n",
    "    crime_occur_weekday, \n",
    "    crime_occur_month, \n",
    "    crime_occur_day, \n",
    "    crime_occur_year, \n",
    "    crime_occur_hour, \n",
    "    crime_occur_timeslot, \n",
    "    crime_occur_season)\n",
    "SELECT DAY_OF_WEEK, OCURRENCE_MONTH, OCURRENCE_DAY, OCURRENCE_YEAR, OCURRENCE_HOUR, TIME, SEASON\n",
    "FROM NYC2015crime;"
   ]
  },
  {
   "cell_type": "code",
   "execution_count": 21,
   "metadata": {
    "collapsed": false
   },
   "outputs": [
    {
     "name": "stdout",
     "output_type": "stream",
     "text": [
      "10 rows affected.\n"
     ]
    },
    {
     "data": {
      "text/html": [
       "<table>\n",
       "    <tr>\n",
       "        <th>crime_time_id</th>\n",
       "        <th>crime_occur_weekday</th>\n",
       "        <th>crime_occur_month</th>\n",
       "        <th>crime_occur_day</th>\n",
       "        <th>crime_occur_year</th>\n",
       "        <th>crime_occur_hour</th>\n",
       "        <th>crime_occur_timeslot</th>\n",
       "        <th>crime_occur_season</th>\n",
       "    </tr>\n",
       "    <tr>\n",
       "        <td>1</td>\n",
       "        <td>Sunday    </td>\n",
       "        <td>Feb</td>\n",
       "        <td>15        </td>\n",
       "        <td>2015      </td>\n",
       "        <td>22        </td>\n",
       "        <td>Evening   </td>\n",
       "        <td>Winter</td>\n",
       "    </tr>\n",
       "    <tr>\n",
       "        <td>2</td>\n",
       "        <td>Sunday    </td>\n",
       "        <td>Feb</td>\n",
       "        <td>15        </td>\n",
       "        <td>2015      </td>\n",
       "        <td>22        </td>\n",
       "        <td>Evening   </td>\n",
       "        <td>Winter</td>\n",
       "    </tr>\n",
       "    <tr>\n",
       "        <td>3</td>\n",
       "        <td>Thursday  </td>\n",
       "        <td>Apr</td>\n",
       "        <td>16        </td>\n",
       "        <td>2015      </td>\n",
       "        <td>0         </td>\n",
       "        <td>Evening   </td>\n",
       "        <td>Spring</td>\n",
       "    </tr>\n",
       "    <tr>\n",
       "        <td>4</td>\n",
       "        <td>Thursday  </td>\n",
       "        <td>Apr</td>\n",
       "        <td>16        </td>\n",
       "        <td>2015      </td>\n",
       "        <td>8         </td>\n",
       "        <td>Morning   </td>\n",
       "        <td>Spring</td>\n",
       "    </tr>\n",
       "    <tr>\n",
       "        <td>5</td>\n",
       "        <td>Thursday  </td>\n",
       "        <td>Apr</td>\n",
       "        <td>16        </td>\n",
       "        <td>2015      </td>\n",
       "        <td>10        </td>\n",
       "        <td>Morning   </td>\n",
       "        <td>Spring</td>\n",
       "    </tr>\n",
       "    <tr>\n",
       "        <td>6</td>\n",
       "        <td>Thursday  </td>\n",
       "        <td>Apr</td>\n",
       "        <td>16        </td>\n",
       "        <td>2015      </td>\n",
       "        <td>14        </td>\n",
       "        <td>Afternoon </td>\n",
       "        <td>Spring</td>\n",
       "    </tr>\n",
       "    <tr>\n",
       "        <td>7</td>\n",
       "        <td>Thursday  </td>\n",
       "        <td>Apr</td>\n",
       "        <td>16        </td>\n",
       "        <td>2015      </td>\n",
       "        <td>14        </td>\n",
       "        <td>Afternoon </td>\n",
       "        <td>Spring</td>\n",
       "    </tr>\n",
       "    <tr>\n",
       "        <td>8</td>\n",
       "        <td>Thursday  </td>\n",
       "        <td>Apr</td>\n",
       "        <td>16        </td>\n",
       "        <td>2015      </td>\n",
       "        <td>14        </td>\n",
       "        <td>Afternoon </td>\n",
       "        <td>Spring</td>\n",
       "    </tr>\n",
       "    <tr>\n",
       "        <td>9</td>\n",
       "        <td>Friday    </td>\n",
       "        <td>May</td>\n",
       "        <td>22        </td>\n",
       "        <td>2015      </td>\n",
       "        <td>11        </td>\n",
       "        <td>Morning   </td>\n",
       "        <td>Spring</td>\n",
       "    </tr>\n",
       "    <tr>\n",
       "        <td>10</td>\n",
       "        <td>Friday    </td>\n",
       "        <td>May</td>\n",
       "        <td>22        </td>\n",
       "        <td>2015      </td>\n",
       "        <td>14        </td>\n",
       "        <td>Afternoon </td>\n",
       "        <td>Spring</td>\n",
       "    </tr>\n",
       "</table>"
      ],
      "text/plain": [
       "[(1, 'Sunday    ', 'Feb', '15        ', '2015      ', '22        ', 'Evening   ', 'Winter'),\n",
       " (2, 'Sunday    ', 'Feb', '15        ', '2015      ', '22        ', 'Evening   ', 'Winter'),\n",
       " (3, 'Thursday  ', 'Apr', '16        ', '2015      ', '0         ', 'Evening   ', 'Spring'),\n",
       " (4, 'Thursday  ', 'Apr', '16        ', '2015      ', '8         ', 'Morning   ', 'Spring'),\n",
       " (5, 'Thursday  ', 'Apr', '16        ', '2015      ', '10        ', 'Morning   ', 'Spring'),\n",
       " (6, 'Thursday  ', 'Apr', '16        ', '2015      ', '14        ', 'Afternoon ', 'Spring'),\n",
       " (7, 'Thursday  ', 'Apr', '16        ', '2015      ', '14        ', 'Afternoon ', 'Spring'),\n",
       " (8, 'Thursday  ', 'Apr', '16        ', '2015      ', '14        ', 'Afternoon ', 'Spring'),\n",
       " (9, 'Friday    ', 'May', '22        ', '2015      ', '11        ', 'Morning   ', 'Spring'),\n",
       " (10, 'Friday    ', 'May', '22        ', '2015      ', '14        ', 'Afternoon ', 'Spring')]"
      ]
     },
     "execution_count": 21,
     "metadata": {},
     "output_type": "execute_result"
    }
   ],
   "source": [
    "%%sql\n",
    "SELECT * FROM crime_time_dimension\n",
    "LIMIT 10;"
   ]
  },
  {
   "cell_type": "markdown",
   "metadata": {},
   "source": [
    "#### The following commands create the Crime Dimension Table"
   ]
  },
  {
   "cell_type": "code",
   "execution_count": 22,
   "metadata": {
    "collapsed": false
   },
   "outputs": [
    {
     "name": "stdout",
     "output_type": "stream",
     "text": [
      "Done.\n",
      "Done.\n"
     ]
    },
    {
     "data": {
      "text/plain": [
       "[]"
      ]
     },
     "execution_count": 22,
     "metadata": {},
     "output_type": "execute_result"
    }
   ],
   "source": [
    "%%sql\n",
    "DROP TABLE IF EXISTS crime_dimension;\n",
    "CREATE TABLE crime_dimension(\n",
    "crime_id SERIAL PRIMARY KEY,\n",
    "crime VARCHAR(225),\n",
    "crime_class CHAR(6)\n",
    ");"
   ]
  },
  {
   "cell_type": "code",
   "execution_count": 23,
   "metadata": {
    "collapsed": false
   },
   "outputs": [
    {
     "name": "stdout",
     "output_type": "stream",
     "text": [
      "100599 rows affected.\n"
     ]
    },
    {
     "data": {
      "text/plain": [
       "[]"
      ]
     },
     "execution_count": 23,
     "metadata": {},
     "output_type": "execute_result"
    }
   ],
   "source": [
    "%%sql\n",
    "INSERT INTO crime_dimension(crime, crime_class)\n",
    "SELECT OFFENSE, OFFENSE_CLASS FROM NYC2015crime;"
   ]
  },
  {
   "cell_type": "code",
   "execution_count": 24,
   "metadata": {
    "collapsed": false
   },
   "outputs": [
    {
     "name": "stdout",
     "output_type": "stream",
     "text": [
      "10 rows affected.\n"
     ]
    },
    {
     "data": {
      "text/html": [
       "<table>\n",
       "    <tr>\n",
       "        <th>crime_id</th>\n",
       "        <th>crime</th>\n",
       "        <th>crime_class</th>\n",
       "    </tr>\n",
       "    <tr>\n",
       "        <td>1</td>\n",
       "        <td>ROBBERY</td>\n",
       "        <td>FELONY</td>\n",
       "    </tr>\n",
       "    <tr>\n",
       "        <td>2</td>\n",
       "        <td>GRAND LARCENY OF MOTOR VEHICLE</td>\n",
       "        <td>FELONY</td>\n",
       "    </tr>\n",
       "    <tr>\n",
       "        <td>3</td>\n",
       "        <td>ROBBERY</td>\n",
       "        <td>FELONY</td>\n",
       "    </tr>\n",
       "    <tr>\n",
       "        <td>4</td>\n",
       "        <td>BURGLARY</td>\n",
       "        <td>FELONY</td>\n",
       "    </tr>\n",
       "    <tr>\n",
       "        <td>5</td>\n",
       "        <td>GRAND LARCENY</td>\n",
       "        <td>FELONY</td>\n",
       "    </tr>\n",
       "    <tr>\n",
       "        <td>6</td>\n",
       "        <td>GRAND LARCENY</td>\n",
       "        <td>FELONY</td>\n",
       "    </tr>\n",
       "    <tr>\n",
       "        <td>7</td>\n",
       "        <td>FELONY ASSAULT</td>\n",
       "        <td>FELONY</td>\n",
       "    </tr>\n",
       "    <tr>\n",
       "        <td>8</td>\n",
       "        <td>GRAND LARCENY</td>\n",
       "        <td>FELONY</td>\n",
       "    </tr>\n",
       "    <tr>\n",
       "        <td>9</td>\n",
       "        <td>GRAND LARCENY OF MOTOR VEHICLE</td>\n",
       "        <td>FELONY</td>\n",
       "    </tr>\n",
       "    <tr>\n",
       "        <td>10</td>\n",
       "        <td>FELONY ASSAULT</td>\n",
       "        <td>FELONY</td>\n",
       "    </tr>\n",
       "</table>"
      ],
      "text/plain": [
       "[(1, 'ROBBERY', 'FELONY'),\n",
       " (2, 'GRAND LARCENY OF MOTOR VEHICLE', 'FELONY'),\n",
       " (3, 'ROBBERY', 'FELONY'),\n",
       " (4, 'BURGLARY', 'FELONY'),\n",
       " (5, 'GRAND LARCENY', 'FELONY'),\n",
       " (6, 'GRAND LARCENY', 'FELONY'),\n",
       " (7, 'FELONY ASSAULT', 'FELONY'),\n",
       " (8, 'GRAND LARCENY', 'FELONY'),\n",
       " (9, 'GRAND LARCENY OF MOTOR VEHICLE', 'FELONY'),\n",
       " (10, 'FELONY ASSAULT', 'FELONY')]"
      ]
     },
     "execution_count": 24,
     "metadata": {},
     "output_type": "execute_result"
    }
   ],
   "source": [
    "%%sql\n",
    "SELECT * FROM crime_dimension\n",
    "LIMIT 10;"
   ]
  },
  {
   "cell_type": "markdown",
   "metadata": {},
   "source": [
    "#### The following commands create the Crime Location Dimension Table"
   ]
  },
  {
   "cell_type": "code",
   "execution_count": 25,
   "metadata": {
    "collapsed": false
   },
   "outputs": [
    {
     "name": "stdout",
     "output_type": "stream",
     "text": [
      "Done.\n",
      "Done.\n"
     ]
    },
    {
     "data": {
      "text/plain": [
       "[]"
      ]
     },
     "execution_count": 25,
     "metadata": {},
     "output_type": "execute_result"
    }
   ],
   "source": [
    "%%sql\n",
    "DROP TABLE IF EXISTS crime_location_dimension;\n",
    "CREATE TABLE crime_location_dimension(\n",
    "crime_location_id SERIAL PRIMARY KEY,\n",
    "borough VARCHAR(40),\n",
    "location VARCHAR(100),\n",
    "precinct CHAR(10),\n",
    "sector CHAR(4),\n",
    "Xcoordinate CHAR(40), \n",
    "Ycoordinate CHAR(40)\n",
    ");"
   ]
  },
  {
   "cell_type": "code",
   "execution_count": 26,
   "metadata": {
    "collapsed": false
   },
   "outputs": [
    {
     "name": "stdout",
     "output_type": "stream",
     "text": [
      "100599 rows affected.\n"
     ]
    },
    {
     "data": {
      "text/plain": [
       "[]"
      ]
     },
     "execution_count": 26,
     "metadata": {},
     "output_type": "execute_result"
    }
   ],
   "source": [
    "%%sql\n",
    "INSERT INTO crime_location_dimension(borough,location,precinct,sector,Xcoordinate,Ycoordinate)\n",
    "SELECT BOROUGH,LOCATION,PRECINT,SECTOR,XCOR,YCOR \n",
    "FROM NYC2015crime;"
   ]
  },
  {
   "cell_type": "code",
   "execution_count": 27,
   "metadata": {
    "collapsed": false
   },
   "outputs": [
    {
     "name": "stdout",
     "output_type": "stream",
     "text": [
      "10 rows affected.\n"
     ]
    },
    {
     "data": {
      "text/html": [
       "<table>\n",
       "    <tr>\n",
       "        <th>crime_location_id</th>\n",
       "        <th>borough</th>\n",
       "        <th>location</th>\n",
       "        <th>precinct</th>\n",
       "        <th>sector</th>\n",
       "        <th>xcoordinate</th>\n",
       "        <th>ycoordinate</th>\n",
       "    </tr>\n",
       "    <tr>\n",
       "        <td>1</td>\n",
       "        <td>BROOKLYN</td>\n",
       "        <td>(40.6610763210001, -73.958821762)</td>\n",
       "        <td>71        </td>\n",
       "        <td>C   </td>\n",
       "        <td>995675                                  </td>\n",
       "        <td>180124                                  </td>\n",
       "    </tr>\n",
       "    <tr>\n",
       "        <td>2</td>\n",
       "        <td>BROOKLYN</td>\n",
       "        <td>(40.671644058, -73.863360523)</td>\n",
       "        <td>75        </td>\n",
       "        <td>I   </td>\n",
       "        <td>1022154                                 </td>\n",
       "        <td>184001                                  </td>\n",
       "    </tr>\n",
       "    <tr>\n",
       "        <td>3</td>\n",
       "        <td>BROOKLYN</td>\n",
       "        <td>(40.644030329, -74.0024806)</td>\n",
       "        <td>72        </td>\n",
       "        <td>H   </td>\n",
       "        <td>983562                                  </td>\n",
       "        <td>173911                                  </td>\n",
       "    </tr>\n",
       "    <tr>\n",
       "        <td>4</td>\n",
       "        <td>BROOKLYN</td>\n",
       "        <td>(40.6212223140001, -74.040349642)</td>\n",
       "        <td>68        </td>\n",
       "        <td>G   </td>\n",
       "        <td>973049                                  </td>\n",
       "        <td>165604                                  </td>\n",
       "    </tr>\n",
       "    <tr>\n",
       "        <td>5</td>\n",
       "        <td>BROOKLYN</td>\n",
       "        <td>(40.688465142, -73.937635025)</td>\n",
       "        <td>81        </td>\n",
       "        <td>D   </td>\n",
       "        <td>1001546                                 </td>\n",
       "        <td>190106                                  </td>\n",
       "    </tr>\n",
       "    <tr>\n",
       "        <td>6</td>\n",
       "        <td>MANHATTAN</td>\n",
       "        <td>(40.8122676570001, -73.957084521)</td>\n",
       "        <td>26        </td>\n",
       "        <td>D   </td>\n",
       "        <td>996130                                  </td>\n",
       "        <td>235208                                  </td>\n",
       "    </tr>\n",
       "    <tr>\n",
       "        <td>7</td>\n",
       "        <td>BRONX</td>\n",
       "        <td>(40.8364565750001, -73.902521453)</td>\n",
       "        <td>42        </td>\n",
       "        <td>B   </td>\n",
       "        <td>1011224                                 </td>\n",
       "        <td>244033                                  </td>\n",
       "    </tr>\n",
       "    <tr>\n",
       "        <td>8</td>\n",
       "        <td>STATEN ISLAND</td>\n",
       "        <td>(40.602585735, -74.1314053369999)</td>\n",
       "        <td>121       </td>\n",
       "        <td>G   </td>\n",
       "        <td>947761                                  </td>\n",
       "        <td>158839                                  </td>\n",
       "    </tr>\n",
       "    <tr>\n",
       "        <td>9</td>\n",
       "        <td>BROOKLYN</td>\n",
       "        <td>(40.630847128, -74.001849635)</td>\n",
       "        <td>66        </td>\n",
       "        <td>H   </td>\n",
       "        <td>983737                                  </td>\n",
       "        <td>169108                                  </td>\n",
       "    </tr>\n",
       "    <tr>\n",
       "        <td>10</td>\n",
       "        <td>MANHATTAN</td>\n",
       "        <td>(40.859200822, -73.922761528)</td>\n",
       "        <td>34        </td>\n",
       "        <td>C   </td>\n",
       "        <td>1005616                                 </td>\n",
       "        <td>252314                                  </td>\n",
       "    </tr>\n",
       "</table>"
      ],
      "text/plain": [
       "[(1, 'BROOKLYN', '(40.6610763210001, -73.958821762)', '71        ', 'C   ', '995675                                  ', '180124                                  '),\n",
       " (2, 'BROOKLYN', '(40.671644058, -73.863360523)', '75        ', 'I   ', '1022154                                 ', '184001                                  '),\n",
       " (3, 'BROOKLYN', '(40.644030329, -74.0024806)', '72        ', 'H   ', '983562                                  ', '173911                                  '),\n",
       " (4, 'BROOKLYN', '(40.6212223140001, -74.040349642)', '68        ', 'G   ', '973049                                  ', '165604                                  '),\n",
       " (5, 'BROOKLYN', '(40.688465142, -73.937635025)', '81        ', 'D   ', '1001546                                 ', '190106                                  '),\n",
       " (6, 'MANHATTAN', '(40.8122676570001, -73.957084521)', '26        ', 'D   ', '996130                                  ', '235208                                  '),\n",
       " (7, 'BRONX', '(40.8364565750001, -73.902521453)', '42        ', 'B   ', '1011224                                 ', '244033                                  '),\n",
       " (8, 'STATEN ISLAND', '(40.602585735, -74.1314053369999)', '121       ', 'G   ', '947761                                  ', '158839                                  '),\n",
       " (9, 'BROOKLYN', '(40.630847128, -74.001849635)', '66        ', 'H   ', '983737                                  ', '169108                                  '),\n",
       " (10, 'MANHATTAN', '(40.859200822, -73.922761528)', '34        ', 'C   ', '1005616                                 ', '252314                                  ')]"
      ]
     },
     "execution_count": 27,
     "metadata": {},
     "output_type": "execute_result"
    }
   ],
   "source": [
    "%%sql\n",
    "SELECT * FROM crime_location_dimension\n",
    "LIMIT 10;"
   ]
  },
  {
   "cell_type": "markdown",
   "metadata": {},
   "source": [
    "### 8. Create fact table and link it to dimension tables"
   ]
  },
  {
   "cell_type": "code",
   "execution_count": 28,
   "metadata": {
    "collapsed": false
   },
   "outputs": [
    {
     "name": "stdout",
     "output_type": "stream",
     "text": [
      "Done.\n",
      "Done.\n"
     ]
    },
    {
     "data": {
      "text/plain": [
       "[]"
      ]
     },
     "execution_count": 28,
     "metadata": {},
     "output_type": "execute_result"
    }
   ],
   "source": [
    "%%sql\n",
    "DROP TABLE IF EXISTS crime_facts;\n",
    "CREATE TABLE crime_facts(\n",
    "crime_archive_ID VARCHAR(30),\n",
    "crime_time_ID SERIAL,\n",
    "crime_ID SERIAL,\n",
    "crime_location_ID SERIAL\n",
    ");"
   ]
  },
  {
   "cell_type": "code",
   "execution_count": 29,
   "metadata": {
    "collapsed": false
   },
   "outputs": [
    {
     "name": "stdout",
     "output_type": "stream",
     "text": [
      "100599 rows affected.\n"
     ]
    },
    {
     "data": {
      "text/plain": [
       "[]"
      ]
     },
     "execution_count": 29,
     "metadata": {},
     "output_type": "execute_result"
    }
   ],
   "source": [
    "%%sql\n",
    "INSERT INTO crime_facts(crime_archive_ID)\n",
    "SELECT arch_id FROM crime_archive_dimension;"
   ]
  },
  {
   "cell_type": "code",
   "execution_count": 30,
   "metadata": {
    "collapsed": false
   },
   "outputs": [
    {
     "name": "stdout",
     "output_type": "stream",
     "text": [
      "10 rows affected.\n"
     ]
    },
    {
     "data": {
      "text/html": [
       "<table>\n",
       "    <tr>\n",
       "        <th>crime_archive_id</th>\n",
       "        <th>crime_time_id</th>\n",
       "        <th>crime_id</th>\n",
       "        <th>crime_location_id</th>\n",
       "    </tr>\n",
       "    <tr>\n",
       "        <td>2f733b4b</td>\n",
       "        <td>1</td>\n",
       "        <td>1</td>\n",
       "        <td>1</td>\n",
       "    </tr>\n",
       "    <tr>\n",
       "        <td>7493f2f4</td>\n",
       "        <td>2</td>\n",
       "        <td>2</td>\n",
       "        <td>2</td>\n",
       "    </tr>\n",
       "    <tr>\n",
       "        <td>96517d23</td>\n",
       "        <td>3</td>\n",
       "        <td>3</td>\n",
       "        <td>3</td>\n",
       "    </tr>\n",
       "    <tr>\n",
       "        <td>9bc5eee2</td>\n",
       "        <td>4</td>\n",
       "        <td>4</td>\n",
       "        <td>4</td>\n",
       "    </tr>\n",
       "    <tr>\n",
       "        <td>23462b44</td>\n",
       "        <td>5</td>\n",
       "        <td>5</td>\n",
       "        <td>5</td>\n",
       "    </tr>\n",
       "    <tr>\n",
       "        <td>41663dcb</td>\n",
       "        <td>6</td>\n",
       "        <td>6</td>\n",
       "        <td>6</td>\n",
       "    </tr>\n",
       "    <tr>\n",
       "        <td>5922e1e9</td>\n",
       "        <td>7</td>\n",
       "        <td>7</td>\n",
       "        <td>7</td>\n",
       "    </tr>\n",
       "    <tr>\n",
       "        <td>f6f8cd7d</td>\n",
       "        <td>8</td>\n",
       "        <td>8</td>\n",
       "        <td>8</td>\n",
       "    </tr>\n",
       "    <tr>\n",
       "        <td>b0cfbac1</td>\n",
       "        <td>9</td>\n",
       "        <td>9</td>\n",
       "        <td>9</td>\n",
       "    </tr>\n",
       "    <tr>\n",
       "        <td>fc3f9f92</td>\n",
       "        <td>10</td>\n",
       "        <td>10</td>\n",
       "        <td>10</td>\n",
       "    </tr>\n",
       "</table>"
      ],
      "text/plain": [
       "[('2f733b4b', 1, 1, 1),\n",
       " ('7493f2f4', 2, 2, 2),\n",
       " ('96517d23', 3, 3, 3),\n",
       " ('9bc5eee2', 4, 4, 4),\n",
       " ('23462b44', 5, 5, 5),\n",
       " ('41663dcb', 6, 6, 6),\n",
       " ('5922e1e9', 7, 7, 7),\n",
       " ('f6f8cd7d', 8, 8, 8),\n",
       " ('b0cfbac1', 9, 9, 9),\n",
       " ('fc3f9f92', 10, 10, 10)]"
      ]
     },
     "execution_count": 30,
     "metadata": {},
     "output_type": "execute_result"
    }
   ],
   "source": [
    "%%sql\n",
    "SELECT * FROM crime_facts\n",
    "LIMIT 10;"
   ]
  },
  {
   "cell_type": "code",
   "execution_count": 31,
   "metadata": {
    "collapsed": false
   },
   "outputs": [
    {
     "name": "stdout",
     "output_type": "stream",
     "text": [
      "Done.\n"
     ]
    },
    {
     "data": {
      "text/plain": [
       "[]"
      ]
     },
     "execution_count": 31,
     "metadata": {},
     "output_type": "execute_result"
    }
   ],
   "source": [
    "%%sql\n",
    "ALTER TABLE crime_facts\n",
    "ADD CONSTRAINT crime_time_ID FOREIGN KEY (crime_time_id)\n",
    "REFERENCES crime_time_dimension (crime_time_id) ON DELETE NO ACTION"
   ]
  },
  {
   "cell_type": "code",
   "execution_count": 32,
   "metadata": {
    "collapsed": false
   },
   "outputs": [
    {
     "name": "stdout",
     "output_type": "stream",
     "text": [
      "Done.\n"
     ]
    },
    {
     "data": {
      "text/plain": [
       "[]"
      ]
     },
     "execution_count": 32,
     "metadata": {},
     "output_type": "execute_result"
    }
   ],
   "source": [
    "%%sql\n",
    "ALTER TABLE crime_facts\n",
    "ADD CONSTRAINT crime_ID FOREIGN KEY (crime_id)\n",
    "REFERENCES crime_dimension (crime_id) ON DELETE NO ACTION"
   ]
  },
  {
   "cell_type": "code",
   "execution_count": 33,
   "metadata": {
    "collapsed": false
   },
   "outputs": [
    {
     "name": "stdout",
     "output_type": "stream",
     "text": [
      "Done.\n"
     ]
    },
    {
     "data": {
      "text/plain": [
       "[]"
      ]
     },
     "execution_count": 33,
     "metadata": {},
     "output_type": "execute_result"
    }
   ],
   "source": [
    "%%sql\n",
    "ALTER TABLE crime_facts\n",
    "ADD CONSTRAINT crime_location_ID FOREIGN KEY (crime_location_id)\n",
    "REFERENCES crime_location_dimension (crime_location_id) ON DELETE NO ACTION;"
   ]
  },
  {
   "cell_type": "code",
   "execution_count": 34,
   "metadata": {
    "collapsed": false
   },
   "outputs": [
    {
     "name": "stdout",
     "output_type": "stream",
     "text": [
      "10 rows affected.\n"
     ]
    },
    {
     "data": {
      "text/html": [
       "<table>\n",
       "    <tr>\n",
       "        <th>crime_archive_id</th>\n",
       "        <th>crime_time_id</th>\n",
       "        <th>crime_id</th>\n",
       "        <th>crime_location_id</th>\n",
       "    </tr>\n",
       "    <tr>\n",
       "        <td>2f733b4b</td>\n",
       "        <td>1</td>\n",
       "        <td>1</td>\n",
       "        <td>1</td>\n",
       "    </tr>\n",
       "    <tr>\n",
       "        <td>7493f2f4</td>\n",
       "        <td>2</td>\n",
       "        <td>2</td>\n",
       "        <td>2</td>\n",
       "    </tr>\n",
       "    <tr>\n",
       "        <td>96517d23</td>\n",
       "        <td>3</td>\n",
       "        <td>3</td>\n",
       "        <td>3</td>\n",
       "    </tr>\n",
       "    <tr>\n",
       "        <td>9bc5eee2</td>\n",
       "        <td>4</td>\n",
       "        <td>4</td>\n",
       "        <td>4</td>\n",
       "    </tr>\n",
       "    <tr>\n",
       "        <td>23462b44</td>\n",
       "        <td>5</td>\n",
       "        <td>5</td>\n",
       "        <td>5</td>\n",
       "    </tr>\n",
       "    <tr>\n",
       "        <td>41663dcb</td>\n",
       "        <td>6</td>\n",
       "        <td>6</td>\n",
       "        <td>6</td>\n",
       "    </tr>\n",
       "    <tr>\n",
       "        <td>5922e1e9</td>\n",
       "        <td>7</td>\n",
       "        <td>7</td>\n",
       "        <td>7</td>\n",
       "    </tr>\n",
       "    <tr>\n",
       "        <td>f6f8cd7d</td>\n",
       "        <td>8</td>\n",
       "        <td>8</td>\n",
       "        <td>8</td>\n",
       "    </tr>\n",
       "    <tr>\n",
       "        <td>b0cfbac1</td>\n",
       "        <td>9</td>\n",
       "        <td>9</td>\n",
       "        <td>9</td>\n",
       "    </tr>\n",
       "    <tr>\n",
       "        <td>fc3f9f92</td>\n",
       "        <td>10</td>\n",
       "        <td>10</td>\n",
       "        <td>10</td>\n",
       "    </tr>\n",
       "</table>"
      ],
      "text/plain": [
       "[('2f733b4b', 1, 1, 1),\n",
       " ('7493f2f4', 2, 2, 2),\n",
       " ('96517d23', 3, 3, 3),\n",
       " ('9bc5eee2', 4, 4, 4),\n",
       " ('23462b44', 5, 5, 5),\n",
       " ('41663dcb', 6, 6, 6),\n",
       " ('5922e1e9', 7, 7, 7),\n",
       " ('f6f8cd7d', 8, 8, 8),\n",
       " ('b0cfbac1', 9, 9, 9),\n",
       " ('fc3f9f92', 10, 10, 10)]"
      ]
     },
     "execution_count": 34,
     "metadata": {},
     "output_type": "execute_result"
    }
   ],
   "source": [
    "%%sql\n",
    "SELECT * FROM crime_facts\n",
    "LIMIT 10;"
   ]
  },
  {
   "cell_type": "markdown",
   "metadata": {},
   "source": [
    "## Problem 4 - explore your data in its new schema (30 points)\n",
    "\n",
    "Strictly using the dimensional model tables you defined and populated for Problem 3, explore your data in its new form.  Use any of the query strategies we've seen in class, including transformations, aggregates, subqueries, rollups, and, of course, joins.  Add plots to highlight particular themes that stand out.  Describe your thinking and observations along the way."
   ]
  },
  {
   "cell_type": "markdown",
   "metadata": {},
   "source": [
    "#### We first explore how number of crime varies with timeslot, season and weekdays. Luckily, we have all that data in the dimension table: crime_time_dimension."
   ]
  },
  {
   "cell_type": "code",
   "execution_count": 35,
   "metadata": {
    "collapsed": false
   },
   "outputs": [
    {
     "name": "stdout",
     "output_type": "stream",
     "text": [
      "3 rows affected.\n"
     ]
    },
    {
     "data": {
      "text/html": [
       "<table>\n",
       "    <tr>\n",
       "        <th>crimenumber_day</th>\n",
       "        <th>crime_occur_timeslot</th>\n",
       "    </tr>\n",
       "    <tr>\n",
       "        <td>28949</td>\n",
       "        <td>Evening   </td>\n",
       "    </tr>\n",
       "    <tr>\n",
       "        <td>29180</td>\n",
       "        <td>Morning   </td>\n",
       "    </tr>\n",
       "    <tr>\n",
       "        <td>42470</td>\n",
       "        <td>Afternoon </td>\n",
       "    </tr>\n",
       "</table>"
      ],
      "text/plain": [
       "[(28949, 'Evening   '), (29180, 'Morning   '), (42470, 'Afternoon ')]"
      ]
     },
     "execution_count": 35,
     "metadata": {},
     "output_type": "execute_result"
    }
   ],
   "source": [
    "%%sql\n",
    "SELECT COUNT(*) AS crimenumber_day,crime_occur_timeslot\n",
    "FROM crime_time_dimension\n",
    "GROUP BY crime_occur_timeslot\n",
    "ORDER BY crimenumber_day;"
   ]
  },
  {
   "cell_type": "code",
   "execution_count": 37,
   "metadata": {
    "collapsed": false
   },
   "outputs": [
    {
     "name": "stdout",
     "output_type": "stream",
     "text": [
      "number of crime occurred in different time period\r\n"
     ]
    },
    {
     "data": {
      "image/png": "[encoded data removed]",
      "text/plain": [
       "<matplotlib.figure.Figure at 0x7f30d7833a58>"
      ]
     },
     "metadata": {},
     "output_type": "display_data"
    }
   ],
   "source": [
    "result = _\n",
    "result.bar()\n",
    "!echo 'number of crime occurred in different time period'"
   ]
  },
  {
   "cell_type": "markdown",
   "metadata": {},
   "source": [
    "The above table and graph show the total number of crime occurred in different time period in a certain day. \n",
    "We can see from the table that the total crime number in morning(6:00--14:00), afternoon(15:00--22:00) and evening(23:00--6:00) equals 29180, 28949 and 42470 respectively.\n",
    "\n",
    "Before the data analysis, we expected evening to have a higher crime occurance rate, however, the result shows that, the number of crime occurred in afternoon is greatly higher than that of morning and evening. The reason behind it may be: Compared to the other two time periods, people are more willing to go outside during afternoon，thus potential criminals are more likely to find their targets and take actions."
   ]
  },
  {
   "cell_type": "code",
   "execution_count": 38,
   "metadata": {
    "collapsed": false
   },
   "outputs": [
    {
     "name": "stdout",
     "output_type": "stream",
     "text": [
      "4 rows affected.\n"
     ]
    },
    {
     "data": {
      "text/html": [
       "<table>\n",
       "    <tr>\n",
       "        <th>crimenumber_season</th>\n",
       "        <th>crime_occur_season</th>\n",
       "    </tr>\n",
       "    <tr>\n",
       "        <td>22144</td>\n",
       "        <td>Winter</td>\n",
       "    </tr>\n",
       "    <tr>\n",
       "        <td>23990</td>\n",
       "        <td>Spring</td>\n",
       "    </tr>\n",
       "    <tr>\n",
       "        <td>26906</td>\n",
       "        <td>Fall  </td>\n",
       "    </tr>\n",
       "    <tr>\n",
       "        <td>27559</td>\n",
       "        <td>Summer</td>\n",
       "    </tr>\n",
       "</table>"
      ],
      "text/plain": [
       "[(22144, 'Winter'), (23990, 'Spring'), (26906, 'Fall  '), (27559, 'Summer')]"
      ]
     },
     "execution_count": 38,
     "metadata": {},
     "output_type": "execute_result"
    }
   ],
   "source": [
    "%%sql\n",
    "SELECT COUNT(*) AS crimenumber_season,crime_occur_season\n",
    "FROM crime_time_dimension\n",
    "GROUP BY crime_occur_season\n",
    "ORDER BY crimenumber_season;"
   ]
  },
  {
   "cell_type": "code",
   "execution_count": 39,
   "metadata": {
    "collapsed": false
   },
   "outputs": [
    {
     "name": "stdout",
     "output_type": "stream",
     "text": [
      "number of crime occurred in different season, 2015\r\n"
     ]
    },
    {
     "data": {
      "image/png": "[encoded data removed]",
      "text/plain": [
       "<matplotlib.figure.Figure at 0x7f30d7833a90>"
      ]
     },
     "metadata": {},
     "output_type": "display_data"
    }
   ],
   "source": [
    "result =_\n",
    "result.bar()\n",
    "!echo 'number of crime occurred in different season, 2015'"
   ]
  },
  {
   "cell_type": "markdown",
   "metadata": {},
   "source": [
    "The above result shows that, summer owns the highest number of crime, which is 27559, followed  by fall, 26906. Compared to the bbbother three, winter has the lowest number of crime, which equals 22144."
   ]
  },
  {
   "cell_type": "code",
   "execution_count": 40,
   "metadata": {
    "collapsed": false
   },
   "outputs": [
    {
     "name": "stdout",
     "output_type": "stream",
     "text": [
      "7 rows affected.\n"
     ]
    },
    {
     "data": {
      "text/html": [
       "<table>\n",
       "    <tr>\n",
       "        <th>crimenumber_weekday</th>\n",
       "        <th>crime_occur_weekday</th>\n",
       "    </tr>\n",
       "    <tr>\n",
       "        <td>13680</td>\n",
       "        <td>Sunday    </td>\n",
       "    </tr>\n",
       "    <tr>\n",
       "        <td>14003</td>\n",
       "        <td>Tuesday   </td>\n",
       "    </tr>\n",
       "    <tr>\n",
       "        <td>14226</td>\n",
       "        <td>Wednesday </td>\n",
       "    </tr>\n",
       "    <tr>\n",
       "        <td>14282</td>\n",
       "        <td>Monday    </td>\n",
       "    </tr>\n",
       "    <tr>\n",
       "        <td>14426</td>\n",
       "        <td>Thursday  </td>\n",
       "    </tr>\n",
       "    <tr>\n",
       "        <td>14521</td>\n",
       "        <td>Saturday  </td>\n",
       "    </tr>\n",
       "    <tr>\n",
       "        <td>15461</td>\n",
       "        <td>Friday    </td>\n",
       "    </tr>\n",
       "</table>"
      ],
      "text/plain": [
       "[(13680, 'Sunday    '),\n",
       " (14003, 'Tuesday   '),\n",
       " (14226, 'Wednesday '),\n",
       " (14282, 'Monday    '),\n",
       " (14426, 'Thursday  '),\n",
       " (14521, 'Saturday  '),\n",
       " (15461, 'Friday    ')]"
      ]
     },
     "execution_count": 40,
     "metadata": {},
     "output_type": "execute_result"
    }
   ],
   "source": [
    "%%sql\n",
    "SELECT COUNT(*) AS crimenumber_weekday, crime_occur_weekday\n",
    "FROM crime_time_dimension\n",
    "GROUP BY crime_occur_weekday\n",
    "ORDER BY crimenumber_weekday;"
   ]
  },
  {
   "cell_type": "code",
   "execution_count": 41,
   "metadata": {
    "collapsed": false
   },
   "outputs": [
    {
     "name": "stdout",
     "output_type": "stream",
     "text": [
      "number of crime occurred in different weekdays\r\n"
     ]
    },
    {
     "data": {
      "image/png": "[encoded data removed]",
      "text/plain": [
       "<matplotlib.figure.Figure at 0x7f30aaec06d8>"
      ]
     },
     "metadata": {},
     "output_type": "display_data"
    }
   ],
   "source": [
    "result= _\n",
    "result.bar()\n",
    "!echo 'number of crime occurred in different weekdays'"
   ]
  },
  {
   "cell_type": "markdown",
   "metadata": {},
   "source": [
    "The above result shows how numbers of crime vary with different week days. We can see from the above table that Friday has the highest total number of crime, 15461, followed by Saturday, 14521, and Sunday has the lowest number of crime, which equals 13680, but number of total crime doesn't change much with different weekdays.\n",
    "\n",
    "To summary, among the three factors: timeslot, season and weekdays, timeslot has the strongest effect on total number of crime, then we will dig deeper using it, and see whether crime type will be affected by this factor."
   ]
  },
  {
   "cell_type": "code",
   "execution_count": 42,
   "metadata": {
    "collapsed": false
   },
   "outputs": [
    {
     "name": "stdout",
     "output_type": "stream",
     "text": [
      "7 rows affected.\n"
     ]
    },
    {
     "data": {
      "text/html": [
       "<table>\n",
       "    <tr>\n",
       "        <th>offense</th>\n",
       "        <th>number</th>\n",
       "    </tr>\n",
       "    <tr>\n",
       "        <td>RAPE</td>\n",
       "        <td>314</td>\n",
       "    </tr>\n",
       "    <tr>\n",
       "        <td>GRAND LARCENY</td>\n",
       "        <td>18325</td>\n",
       "    </tr>\n",
       "    <tr>\n",
       "        <td>ROBBERY</td>\n",
       "        <td>7053</td>\n",
       "    </tr>\n",
       "    <tr>\n",
       "        <td>MURDER &amp; NON-NEGL. MANSLAUGHTE</td>\n",
       "        <td>114</td>\n",
       "    </tr>\n",
       "    <tr>\n",
       "        <td>FELONY ASSAULT</td>\n",
       "        <td>8070</td>\n",
       "    </tr>\n",
       "    <tr>\n",
       "        <td>BURGLARY</td>\n",
       "        <td>5390</td>\n",
       "    </tr>\n",
       "    <tr>\n",
       "        <td>GRAND LARCENY OF MOTOR VEHICLE</td>\n",
       "        <td>3204</td>\n",
       "    </tr>\n",
       "</table>"
      ],
      "text/plain": [
       "[('RAPE', 314),\n",
       " ('GRAND LARCENY', 18325),\n",
       " ('ROBBERY', 7053),\n",
       " ('MURDER & NON-NEGL. MANSLAUGHTE', 114),\n",
       " ('FELONY ASSAULT', 8070),\n",
       " ('BURGLARY', 5390),\n",
       " ('GRAND LARCENY OF MOTOR VEHICLE', 3204)]"
      ]
     },
     "execution_count": 42,
     "metadata": {},
     "output_type": "execute_result"
    }
   ],
   "source": [
    "%%sql\n",
    "SELECT OFFENSE ,COUNT(*) AS number FROM NYC2015crime\n",
    "WHERE time = 'Afternoon'\n",
    "GROUP BY OFFENSE;"
   ]
  },
  {
   "cell_type": "code",
   "execution_count": 43,
   "metadata": {
    "collapsed": false
   },
   "outputs": [
    {
     "name": "stdout",
     "output_type": "stream",
     "text": [
      "7 rows affected.\n"
     ]
    },
    {
     "data": {
      "text/html": [
       "<table>\n",
       "    <tr>\n",
       "        <th>offense</th>\n",
       "        <th>rate</th>\n",
       "    </tr>\n",
       "    <tr>\n",
       "        <td>RAPE</td>\n",
       "        <td>0.0031</td>\n",
       "    </tr>\n",
       "    <tr>\n",
       "        <td>GRAND LARCENY</td>\n",
       "        <td>0.1822</td>\n",
       "    </tr>\n",
       "    <tr>\n",
       "        <td>ROBBERY</td>\n",
       "        <td>0.0701</td>\n",
       "    </tr>\n",
       "    <tr>\n",
       "        <td>MURDER &amp; NON-NEGL. MANSLAUGHTE</td>\n",
       "        <td>0.0011</td>\n",
       "    </tr>\n",
       "    <tr>\n",
       "        <td>FELONY ASSAULT</td>\n",
       "        <td>0.0802</td>\n",
       "    </tr>\n",
       "    <tr>\n",
       "        <td>BURGLARY</td>\n",
       "        <td>0.0536</td>\n",
       "    </tr>\n",
       "    <tr>\n",
       "        <td>GRAND LARCENY OF MOTOR VEHICLE</td>\n",
       "        <td>0.0318</td>\n",
       "    </tr>\n",
       "</table>"
      ],
      "text/plain": [
       "[('RAPE', Decimal('0.0031')),\n",
       " ('GRAND LARCENY', Decimal('0.1822')),\n",
       " ('ROBBERY', Decimal('0.0701')),\n",
       " ('MURDER & NON-NEGL. MANSLAUGHTE', Decimal('0.0011')),\n",
       " ('FELONY ASSAULT', Decimal('0.0802')),\n",
       " ('BURGLARY', Decimal('0.0536')),\n",
       " ('GRAND LARCENY OF MOTOR VEHICLE', Decimal('0.0318'))]"
      ]
     },
     "execution_count": 43,
     "metadata": {},
     "output_type": "execute_result"
    }
   ],
   "source": [
    "%%sql\n",
    "Select OFFENSE, ROUND((CAST(Count(OFFENSE) AS DECIMAL) / (Select Count(*) From NYC2015crime)),4) as rate\n",
    "From NYC2015crime\n",
    "WHERE time = 'Afternoon'\n",
    "Group By OFFENSE;"
   ]
  },
  {
   "cell_type": "code",
   "execution_count": 44,
   "metadata": {
    "collapsed": false
   },
   "outputs": [
    {
     "name": "stdout",
     "output_type": "stream",
     "text": [
      "crime classification in afternoon\r\n"
     ]
    },
    {
     "data": {
      "image/png": "[encoded data removed]",
      "text/plain": [
       "<matplotlib.figure.Figure at 0x7f30aaee55f8>"
      ]
     },
     "metadata": {},
     "output_type": "display_data"
    }
   ],
   "source": [
    "result= _\n",
    "result.bar()\n",
    "!echo 'crime classification in afternoon'"
   ]
  },
  {
   "cell_type": "code",
   "execution_count": 45,
   "metadata": {
    "collapsed": false
   },
   "outputs": [
    {
     "name": "stdout",
     "output_type": "stream",
     "text": [
      "7 rows affected.\n"
     ]
    },
    {
     "data": {
      "text/html": [
       "<table>\n",
       "    <tr>\n",
       "        <th>offense</th>\n",
       "        <th>number</th>\n",
       "    </tr>\n",
       "    <tr>\n",
       "        <td>RAPE</td>\n",
       "        <td>233</td>\n",
       "    </tr>\n",
       "    <tr>\n",
       "        <td>GRAND LARCENY</td>\n",
       "        <td>13963</td>\n",
       "    </tr>\n",
       "    <tr>\n",
       "        <td>ROBBERY</td>\n",
       "        <td>3145</td>\n",
       "    </tr>\n",
       "    <tr>\n",
       "        <td>MURDER &amp; NON-NEGL. MANSLAUGHTE</td>\n",
       "        <td>71</td>\n",
       "    </tr>\n",
       "    <tr>\n",
       "        <td>FELONY ASSAULT</td>\n",
       "        <td>4576</td>\n",
       "    </tr>\n",
       "    <tr>\n",
       "        <td>BURGLARY</td>\n",
       "        <td>5705</td>\n",
       "    </tr>\n",
       "    <tr>\n",
       "        <td>GRAND LARCENY OF MOTOR VEHICLE</td>\n",
       "        <td>1487</td>\n",
       "    </tr>\n",
       "</table>"
      ],
      "text/plain": [
       "[('RAPE', 233),\n",
       " ('GRAND LARCENY', 13963),\n",
       " ('ROBBERY', 3145),\n",
       " ('MURDER & NON-NEGL. MANSLAUGHTE', 71),\n",
       " ('FELONY ASSAULT', 4576),\n",
       " ('BURGLARY', 5705),\n",
       " ('GRAND LARCENY OF MOTOR VEHICLE', 1487)]"
      ]
     },
     "execution_count": 45,
     "metadata": {},
     "output_type": "execute_result"
    }
   ],
   "source": [
    "%%sql\n",
    "SELECT OFFENSE ,COUNT(*) AS number FROM NYC2015crime\n",
    "WHERE time = 'Morning'\n",
    "GROUP BY OFFENSE;"
   ]
  },
  {
   "cell_type": "code",
   "execution_count": 46,
   "metadata": {
    "collapsed": false
   },
   "outputs": [
    {
     "name": "stdout",
     "output_type": "stream",
     "text": [
      "7 rows affected.\n"
     ]
    },
    {
     "data": {
      "text/html": [
       "<table>\n",
       "    <tr>\n",
       "        <th>offense</th>\n",
       "        <th>rate</th>\n",
       "    </tr>\n",
       "    <tr>\n",
       "        <td>RAPE</td>\n",
       "        <td>0.0023</td>\n",
       "    </tr>\n",
       "    <tr>\n",
       "        <td>GRAND LARCENY</td>\n",
       "        <td>0.1388</td>\n",
       "    </tr>\n",
       "    <tr>\n",
       "        <td>ROBBERY</td>\n",
       "        <td>0.0313</td>\n",
       "    </tr>\n",
       "    <tr>\n",
       "        <td>MURDER &amp; NON-NEGL. MANSLAUGHTE</td>\n",
       "        <td>0.0007</td>\n",
       "    </tr>\n",
       "    <tr>\n",
       "        <td>FELONY ASSAULT</td>\n",
       "        <td>0.0455</td>\n",
       "    </tr>\n",
       "    <tr>\n",
       "        <td>BURGLARY</td>\n",
       "        <td>0.0567</td>\n",
       "    </tr>\n",
       "    <tr>\n",
       "        <td>GRAND LARCENY OF MOTOR VEHICLE</td>\n",
       "        <td>0.0148</td>\n",
       "    </tr>\n",
       "</table>"
      ],
      "text/plain": [
       "[('RAPE', Decimal('0.0023')),\n",
       " ('GRAND LARCENY', Decimal('0.1388')),\n",
       " ('ROBBERY', Decimal('0.0313')),\n",
       " ('MURDER & NON-NEGL. MANSLAUGHTE', Decimal('0.0007')),\n",
       " ('FELONY ASSAULT', Decimal('0.0455')),\n",
       " ('BURGLARY', Decimal('0.0567')),\n",
       " ('GRAND LARCENY OF MOTOR VEHICLE', Decimal('0.0148'))]"
      ]
     },
     "execution_count": 46,
     "metadata": {},
     "output_type": "execute_result"
    }
   ],
   "source": [
    "%%sql\n",
    "Select OFFENSE, ROUND((CAST(Count(OFFENSE) AS DECIMAL) / (Select Count(*) From NYC2015crime)),4) as rate\n",
    "From NYC2015crime\n",
    "WHERE time = 'Morning'\n",
    "Group By OFFENSE;"
   ]
  },
  {
   "cell_type": "code",
   "execution_count": 47,
   "metadata": {
    "collapsed": false
   },
   "outputs": [
    {
     "name": "stdout",
     "output_type": "stream",
     "text": [
      "crime classification in morning\r\n"
     ]
    },
    {
     "data": {
      "image/png": "[encoded data removed]",
      "text/plain": [
       "<matplotlib.figure.Figure at 0x7f30ab143b70>"
      ]
     },
     "metadata": {},
     "output_type": "display_data"
    }
   ],
   "source": [
    "result= _\n",
    "result.bar()\n",
    "!echo 'crime classification in morning'"
   ]
  },
  {
   "cell_type": "code",
   "execution_count": 48,
   "metadata": {
    "collapsed": false
   },
   "outputs": [
    {
     "name": "stdout",
     "output_type": "stream",
     "text": [
      "7 rows affected.\n"
     ]
    },
    {
     "data": {
      "text/html": [
       "<table>\n",
       "    <tr>\n",
       "        <th>offense</th>\n",
       "        <th>number</th>\n",
       "    </tr>\n",
       "    <tr>\n",
       "        <td>RAPE</td>\n",
       "        <td>594</td>\n",
       "    </tr>\n",
       "    <tr>\n",
       "        <td>GRAND LARCENY</td>\n",
       "        <td>8515</td>\n",
       "    </tr>\n",
       "    <tr>\n",
       "        <td>ROBBERY</td>\n",
       "        <td>6391</td>\n",
       "    </tr>\n",
       "    <tr>\n",
       "        <td>MURDER &amp; NON-NEGL. MANSLAUGHTE</td>\n",
       "        <td>140</td>\n",
       "    </tr>\n",
       "    <tr>\n",
       "        <td>FELONY ASSAULT</td>\n",
       "        <td>7291</td>\n",
       "    </tr>\n",
       "    <tr>\n",
       "        <td>BURGLARY</td>\n",
       "        <td>3584</td>\n",
       "    </tr>\n",
       "    <tr>\n",
       "        <td>GRAND LARCENY OF MOTOR VEHICLE</td>\n",
       "        <td>2434</td>\n",
       "    </tr>\n",
       "</table>"
      ],
      "text/plain": [
       "[('RAPE', 594),\n",
       " ('GRAND LARCENY', 8515),\n",
       " ('ROBBERY', 6391),\n",
       " ('MURDER & NON-NEGL. MANSLAUGHTE', 140),\n",
       " ('FELONY ASSAULT', 7291),\n",
       " ('BURGLARY', 3584),\n",
       " ('GRAND LARCENY OF MOTOR VEHICLE', 2434)]"
      ]
     },
     "execution_count": 48,
     "metadata": {},
     "output_type": "execute_result"
    }
   ],
   "source": [
    "%%sql\n",
    "SELECT OFFENSE ,COUNT(*) AS number FROM NYC2015crime\n",
    "WHERE time = 'Evening'\n",
    "GROUP BY OFFENSE;"
   ]
  },
  {
   "cell_type": "code",
   "execution_count": 49,
   "metadata": {
    "collapsed": false
   },
   "outputs": [
    {
     "name": "stdout",
     "output_type": "stream",
     "text": [
      "7 rows affected.\n"
     ]
    },
    {
     "data": {
      "text/html": [
       "<table>\n",
       "    <tr>\n",
       "        <th>offense</th>\n",
       "        <th>rate</th>\n",
       "    </tr>\n",
       "    <tr>\n",
       "        <td>RAPE</td>\n",
       "        <td>0.0059</td>\n",
       "    </tr>\n",
       "    <tr>\n",
       "        <td>GRAND LARCENY</td>\n",
       "        <td>0.0846</td>\n",
       "    </tr>\n",
       "    <tr>\n",
       "        <td>ROBBERY</td>\n",
       "        <td>0.0635</td>\n",
       "    </tr>\n",
       "    <tr>\n",
       "        <td>MURDER &amp; NON-NEGL. MANSLAUGHTE</td>\n",
       "        <td>0.0014</td>\n",
       "    </tr>\n",
       "    <tr>\n",
       "        <td>FELONY ASSAULT</td>\n",
       "        <td>0.0725</td>\n",
       "    </tr>\n",
       "    <tr>\n",
       "        <td>BURGLARY</td>\n",
       "        <td>0.0356</td>\n",
       "    </tr>\n",
       "    <tr>\n",
       "        <td>GRAND LARCENY OF MOTOR VEHICLE</td>\n",
       "        <td>0.0242</td>\n",
       "    </tr>\n",
       "</table>"
      ],
      "text/plain": [
       "[('RAPE', Decimal('0.0059')),\n",
       " ('GRAND LARCENY', Decimal('0.0846')),\n",
       " ('ROBBERY', Decimal('0.0635')),\n",
       " ('MURDER & NON-NEGL. MANSLAUGHTE', Decimal('0.0014')),\n",
       " ('FELONY ASSAULT', Decimal('0.0725')),\n",
       " ('BURGLARY', Decimal('0.0356')),\n",
       " ('GRAND LARCENY OF MOTOR VEHICLE', Decimal('0.0242'))]"
      ]
     },
     "execution_count": 49,
     "metadata": {},
     "output_type": "execute_result"
    }
   ],
   "source": [
    "%%sql\n",
    "Select OFFENSE, ROUND((CAST(Count(OFFENSE) AS DECIMAL) / (Select Count(*) From NYC2015crime)),4) as rate\n",
    "From NYC2015crime\n",
    "WHERE time = 'Evening'\n",
    "Group By OFFENSE;"
   ]
  },
  {
   "cell_type": "code",
   "execution_count": 50,
   "metadata": {
    "collapsed": false
   },
   "outputs": [
    {
     "name": "stdout",
     "output_type": "stream",
     "text": [
      "= crime classification in evening\r\n"
     ]
    },
    {
     "data": {
      "image/png": "[encoded data removed]",
      "text/plain": [
       "<matplotlib.figure.Figure at 0x7f30d7874048>"
      ]
     },
     "metadata": {},
     "output_type": "display_data"
    }
   ],
   "source": [
    "result= _\n",
    "result.bar()\n",
    "!echo = 'crime classification in evening'"
   ]
  },
  {
   "cell_type": "markdown",
   "metadata": {},
   "source": [
    "In general, the order of crime class doesn't change with timeslop, the crime type that is most frequently happen is GRAND LARCENY no matter in morning, afternoon or evening, on the opposite, the crime type that is least frequently happen is MURDER & NON-NEGL.MANSLAUGHTE in all timeslop.\n",
    "\n",
    "However, the occurrence probability of certain crime class does vary over timeslop, for example: even though GRAND LARCENY is most likely to happen in all three time period, the occurrence rate of it decreases obviously in the evening. And on the opposite, the occurrence rate or RAPE increases obviously in the evening compared with the other two time periods."
   ]
  },
  {
   "cell_type": "markdown",
   "metadata": {},
   "source": [
    "## Bonus (10 points for one of A or B)\n",
    "\n",
    "\n",
    "### Option A - Automating ETL\n",
    "\n",
    "Consider the work you did to load your original raw dataset and then transform it into a dimensional model for analysis.  What would it take to automate this process?  How often would you need to update the data?  Could you easily automate any data cleaning steps?  What checks would you need to put in place to ensure quality?  Would humans need to be involved, or could you automate it all?\n",
    "\n",
    "Discuss.\n",
    "\n",
    "\n",
    "### Option B - Augmenting dimensions\n",
    "\n",
    "Considering your dimensional model, what external data could you find to augment it?  As in the case of bike trips, where weather might provide an interesting added dimension/context not present in the original data, you can probably find another source of data to complement your own model.  Identify one such source and add it to your model, demonstrating its value with a few new queries."
   ]
  },
  {
   "cell_type": "markdown",
   "metadata": {},
   "source": [
    "#### option B\n",
    "Consider the properties of the data we use, educational level of each district will be helpful in digging deeper into the data.As plenty of paper has implied the strong relationship between education and crime, it's  reasonable and rational to include data related to education level when exploring factors affecting crime rate and crime type.\n",
    "In this case, we could use numbers of schools(hign school, universities) in each district to represent the educational level of that certain district, These data is accessible on the public webset of local government, and will certainly provide us with important clues."
   ]
  }
 ],
 "metadata": {
  "anaconda-cloud": {},
  "kernelspec": {
   "display_name": "Python [Root]",
   "language": "python",
   "name": "Python [Root]"
  },
  "language_info": {
   "codemirror_mode": {
    "name": "ipython",
    "version": 3
   },
   "file_extension": ".py",
   "mimetype": "text/x-python",
   "name": "python",
   "nbconvert_exporter": "python",
   "pygments_lexer": "ipython3",
   "version": "3.5.2"
  }
 },
 "nbformat": 4,
 "nbformat_minor": 1
}
